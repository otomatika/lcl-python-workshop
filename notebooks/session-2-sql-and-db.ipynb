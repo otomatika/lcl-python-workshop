{
 "cells": [
  {
   "cell_type": "markdown",
   "metadata": {},
   "source": [
    "# Table of Contents\n",
    "\n",
    "1. **Library Imports**\n",
    "    * Library Import\n",
    "\n",
    "2. **Connect to Server and Create Database**\n",
    "    * Define Server Connection Function\n",
    "    * Create a New Database\n",
    "    * Modify Server Connection Function, Create Database Connection Function\n",
    "    * Define Query Execution Function\n",
    "\n",
    "3. **Creating Tables**\n",
    "    * Create Teacher Table\n",
    "    * Create Remaining Tables\n",
    "    * Define Foreign Key Relationships\n",
    "\n",
    "4. **Populating Tables**\n",
    "    * Populate Teacher Table\n",
    "    * Populate Remaining Tables\n",
    "\n",
    "5. **Reading Data**\n",
    "    * Define Data Reading Function\n",
    "    * Read Data from Database\n",
    "    * Formatting Output into a List\n",
    "    * Formatting Output into a List of Lists\n",
    "    * Formatting Output into a pandas DataFrame\n",
    "\n",
    "6. **Updating Records**\n",
    "    * Updating Client Address\n",
    "\n",
    "7. **Deleting Records**\n",
    "    * Deleting a Course\n",
    "    * Restoring the Course\n",
    "\n",
    "8. **Creating Records from Lists**\n",
    "    * Create Execute List Query Function\n",
    "    * Add New Teachers\n",
    "\n",
    "9. **Conclusion**\n",
    "    * Conclusion\n"
   ]
  },
  {
   "cell_type": "markdown",
   "metadata": {},
   "source": [
    "# 1. Import Libraries\n",
    "\n",
    "Our first step will be to import the necessary libraries. We will use pyodbc and mariadb to connect to databases in LCL Logistics."
   ]
  },
  {
   "cell_type": "markdown",
   "metadata": {},
   "source": [
    "### Python Database Connector Libraries"
   ]
  },
  {
   "cell_type": "markdown",
   "metadata": {},
   "source": [
    "1. **SQLite3** - Built into Python, used for accessing SQLite databases.\n",
    "   - [SQLite3 Documentation](https://docs.python.org/3/library/sqlite3.html)\n",
    "\n",
    "2. **MySQL Connector/Python** - A MySQL driver written in Python.\n",
    "   - [MySQL Connector/Python Documentation](https://dev.mysql.com/doc/connector-python/en/)\n",
    "\n",
    "3. **Psycopg2** - PostgreSQL adapter for Python.\n",
    "   - [Psycopg2 Documentation](https://www.psycopg.org/docs/)\n",
    "\n",
    "4. **SQLAlchemy** - SQL toolkit and Object-Relational Mapping (ORM) system.\n",
    "   - [SQLAlchemy Documentation](https://www.sqlalchemy.org/)\n",
    "\n",
    "5. **PyMongo** - MongoDB driver for Python.\n",
    "   - [PyMongo Documentation](https://pymongo.readthedocs.io/en/stable/)\n",
    "\n",
    "6. **PyODBC** - Open-source Python module for ODBC database connections.\n",
    "   - [PyODBC Documentation](https://github.com/mkleehammer/pyodbc/wiki)\n",
    "\n",
    "7. **cx_Oracle** - Python extension for Oracle database access.\n",
    "   - [cx_Oracle Documentation](https://oracle.github.io/python-cx_Oracle/)\n"
   ]
  },
  {
   "cell_type": "markdown",
   "metadata": {},
   "source": [
    "### Library imports for LCL DBs"
   ]
  },
  {
   "cell_type": "code",
   "execution_count": 1,
   "metadata": {},
   "outputs": [
    {
     "data": {
      "text/plain": [
       "True"
      ]
     },
     "execution_count": 1,
     "metadata": {},
     "output_type": "execute_result"
    }
   ],
   "source": [
    "import pyodbc\n",
    "import mariadb\n",
    "import os\n",
    "from dotenv import load_dotenv\n",
    "\n",
    "load_dotenv()"
   ]
  },
  {
   "cell_type": "markdown",
   "metadata": {},
   "source": [
    "# 2. Connect to Server and Create Database\n",
    "#### 2.1 - Define Server Connection Function\n",
    "To establish a connection to a MariaDB server using Python for managing the logistics database, we utilize the `pyodbc` library. This function will attempt to connect to the server with the provided credentials and will output a success message if the connection is established successfully. Make sure to update the 'pw' variable with the actual password for your server.\n"
   ]
  },
  {
   "cell_type": "markdown",
   "metadata": {},
   "source": [
    "Installing drivers on Mac\n",
    "\n",
    "```bash\n",
    "brew tap microsoft/mssql-release https://github.com/Microsoft/homebrew-mssql-release\n",
    "brew update\n",
    "brew install msodbcsql17 mssql-tools"
   ]
  },
  {
   "cell_type": "code",
   "execution_count": 9,
   "metadata": {},
   "outputs": [
    {
     "name": "stdout",
     "output_type": "stream",
     "text": [
      "Error: '('01000', \"[01000] [unixODBC][Driver Manager]Can't open lib 'ODBC Driver 17 for SQL Server' : file not found (0) (SQLDriverConnect)\")'\n"
     ]
    }
   ],
   "source": [
    "def create_server_connection(server_name, database_name, user_name, user_password):\n",
    "    connection = None\n",
    "    try:\n",
    "        connection = pyodbc.connect(\n",
    "            'Driver={ODBC Driver 17 for SQL Server};'\n",
    "            f'Server={server_name};'\n",
    "            f'Database={database_name};'\n",
    "            f'UID={user_name};'\n",
    "            f'PWD={user_password}'\n",
    "        )\n",
    "        print(\"Database connection successful\")\n",
    "    except pyodbc.Error as err:\n",
    "        print(f\"Error: '{err}'\")\n",
    "\n",
    "    return connection\n",
    "\n",
    "# Connection to MariaDB\n",
    "connection = create_server_connection(os.environ[\"SERVER\"], os.environ[\"DB\"], os.environ[\"USER\"], os.environ[\"PW\"])"
   ]
  },
  {
   "cell_type": "code",
   "execution_count": 3,
   "metadata": {},
   "outputs": [],
   "source": [
    "from mariadb.connections import Connection\n",
    "\n",
    "\n",
    "connection: Connection = mariadb.connect(\n",
    "    user = os.environ[\"M_USER\"],\n",
    "    password = os.environ[\"M_PW\"],\n",
    "    host = os.environ[\"M_SERVER\"],\n",
    "    database = os.environ[\"M_DB\"]\n",
    ")"
   ]
  },
  {
   "cell_type": "markdown",
   "metadata": {},
   "source": [
    "#### 2.2 - Create a New Database\n",
    "To facilitate operations at LCL Logistics, this function will create a new database on the MariaDB server specifically for managing perishable logistics. We use the `cursor.execute()` method to run a SQL command that creates the database.\n"
   ]
  },
  {
   "cell_type": "code",
   "execution_count": 17,
   "metadata": {},
   "outputs": [
    {
     "name": "stdout",
     "output_type": "stream",
     "text": [
      "Error: 'Access denied for user 'megatron'@'%' to database 'oto''\n"
     ]
    }
   ],
   "source": [
    "\n",
    "def create_database(connection, query):\n",
    "    cursor = connection.cursor()\n",
    "    try:\n",
    "        cursor.execute(query)\n",
    "        print(\"Database created successfully\")\n",
    "    except Exception as err:\n",
    "        print(f\"Error: '{err}'\")\n",
    "\n",
    "# SQL command to create a new database\n",
    "create_database_query = \"CREATE DATABASE oto\"  # Name the database according to your logistics needs\n",
    "create_database(connection, create_database_query)\n"
   ]
  },
  {
   "cell_type": "markdown",
   "metadata": {},
   "source": [
    "#### 2.3 - Define Query Execution Function\n",
    "This function is essential for executing SQL queries directly on the MariaDB database managing logistics operations. It handles all operations, from data insertion to updates and deletions, crucial for managing perishable logistics efficiently.\n"
   ]
  },
  {
   "cell_type": "code",
   "execution_count": 4,
   "metadata": {},
   "outputs": [
    {
     "name": "stdout",
     "output_type": "stream",
     "text": [
      "Query successful\n"
     ]
    }
   ],
   "source": [
    "def execute_query(connection, query):\n",
    "    cursor = connection.cursor()\n",
    "    try:\n",
    "        cursor.execute(query)\n",
    "        connection.commit()\n",
    "        print(\"Query successful\")\n",
    "    except Exception as err:\n",
    "        print(f\"Error: '{err}'\")\n",
    "\n",
    "# Example SQL query to test the function\n",
    "test_query = \"CREATE TABLE IF NOT EXISTS inventory (id INT AUTO_INCREMENT PRIMARY KEY, item_name VARCHAR(255), quantity INT, expiry_date DATE)\"\n",
    "execute_query(connection, test_query)"
   ]
  },
  {
   "cell_type": "markdown",
   "metadata": {},
   "source": [
    "### 3. Creating Tables\n"
   ]
  },
  {
   "cell_type": "markdown",
   "metadata": {},
   "source": [
    "#### 3.1 - Create Staff Table\n",
    "To adapt this tutorial section for LCL Logistics, let's create a table that is directly relevant to logistics operations. We'll focus on a `staff` table that can be used to manage employee details including certifications and contact information.\n"
   ]
  },
  {
   "cell_type": "code",
   "execution_count": 5,
   "metadata": {},
   "outputs": [
    {
     "name": "stdout",
     "output_type": "stream",
     "text": [
      "Query successful\n"
     ]
    }
   ],
   "source": [
    "create_staff_table = \"\"\"\n",
    "CREATE TABLE staff (\n",
    "  staff_id INT PRIMARY KEY,\n",
    "  first_name VARCHAR(40) NOT NULL,\n",
    "  last_name VARCHAR(40) NOT NULL,\n",
    "  role VARCHAR(20) NOT NULL,\n",
    "  certification VARCHAR(20),\n",
    "  dob DATE,\n",
    "  tax_id INT UNIQUE,\n",
    "  phone_no VARCHAR(20)\n",
    "  );\n",
    "\"\"\"\n",
    "\n",
    "execute_query(connection, create_staff_table)"
   ]
  },
  {
   "cell_type": "markdown",
   "metadata": {},
   "source": [
    "#### 3.2 - Create Remaining Tables\n",
    "For LCL Logistics, it's essential to manage data relevant to their core business functions. Therefore, let's create tables for `trucks`, `orders`, and `customers` which are more pertinent to logistics operations involving perishables.\n"
   ]
  },
  {
   "cell_type": "code",
   "execution_count": 6,
   "metadata": {},
   "outputs": [
    {
     "name": "stdout",
     "output_type": "stream",
     "text": [
      "Query successful\n",
      "Query successful\n",
      "Query successful\n"
     ]
    }
   ],
   "source": [
    "# SQL command to create a customers table\n",
    "create_customers_table = \"\"\"\n",
    "CREATE TABLE customers (\n",
    "  customer_id INT PRIMARY KEY,\n",
    "  customer_name VARCHAR(40) NOT NULL,\n",
    "  address VARCHAR(60) NOT NULL,\n",
    "  contact_phone VARCHAR(20)\n",
    ");\n",
    "\"\"\"\n",
    "\n",
    "# SQL command to create a trucks table\n",
    "create_trucks_table = \"\"\"\n",
    "CREATE TABLE trucks (\n",
    "  truck_id INT PRIMARY KEY,\n",
    "  license_plate VARCHAR(15) NOT NULL,\n",
    "  model VARCHAR(40) NOT NULL,\n",
    "  capacity_ton INT,\n",
    "  maintenance_date DATE\n",
    ");\n",
    "\"\"\"\n",
    "\n",
    "# SQL command to create an orders table\n",
    "create_orders_table = \"\"\"\n",
    "CREATE TABLE orders (\n",
    "  order_id INT PRIMARY KEY,\n",
    "  product_name VARCHAR(40) NOT NULL,\n",
    "  quantity INT NOT NULL,\n",
    "  order_date DATE NOT NULL,\n",
    "  delivery_date DATE,\n",
    "  customer_id INT,\n",
    "  truck_id INT,\n",
    "  FOREIGN KEY (customer_id) REFERENCES customers(customer_id),\n",
    "  FOREIGN KEY (truck_id) REFERENCES trucks(truck_id)\n",
    ");\n",
    "\"\"\"\n",
    "\n",
    "# Execute the queries to create the tables\n",
    "execute_query(connection, create_customers_table)\n",
    "execute_query(connection, create_trucks_table)\n",
    "execute_query(connection, create_orders_table)"
   ]
  },
  {
   "cell_type": "markdown",
   "metadata": {},
   "source": [
    "### 3.3 - Define Foreign Key Relationships\n",
    "To ensure data integrity within LCL Logistics' database, we will alter tables to create appropriate foreign key relationships. This adjustment focuses on tables relevant to logistics, specifically linking `orders` to `customers` and `trucks`, ensuring that order details relate directly to existing customers and trucks.\n"
   ]
  },
  {
   "cell_type": "code",
   "execution_count": 7,
   "metadata": {},
   "outputs": [
    {
     "name": "stdout",
     "output_type": "stream",
     "text": [
      "Query successful\n",
      "Query successful\n",
      "Query successful\n"
     ]
    }
   ],
   "source": [
    "# SQL command to alter the orders table to add foreign key relationships\n",
    "alter_orders_customer = \"\"\"\n",
    "ALTER TABLE orders\n",
    "ADD FOREIGN KEY(customer_id)\n",
    "REFERENCES customers(customer_id)\n",
    "ON DELETE SET NULL;\n",
    "\"\"\"\n",
    "\n",
    "alter_orders_truck = \"\"\"\n",
    "ALTER TABLE orders\n",
    "ADD FOREIGN KEY(truck_id)\n",
    "REFERENCES trucks(truck_id)\n",
    "ON DELETE SET NULL;\n",
    "\"\"\"\n",
    "\n",
    "# SQL command to create a final table for managing deliveries\n",
    "create_delivery_table = \"\"\"\n",
    "CREATE TABLE delivery (\n",
    "  order_id INT,\n",
    "  truck_id INT,\n",
    "  delivery_status VARCHAR(20),\n",
    "  delivery_date DATE,\n",
    "  PRIMARY KEY(order_id, truck_id),\n",
    "  FOREIGN KEY(order_id) REFERENCES orders(order_id) ON DELETE CASCADE,\n",
    "  FOREIGN KEY(truck_id) REFERENCES trucks(truck_id) ON DELETE CASCADE\n",
    ");\n",
    "\"\"\"\n",
    "\n",
    "# Execute the SQL commands to alter tables and create new foreign key relationships\n",
    "execute_query(connection, alter_orders_customer)\n",
    "execute_query(connection, alter_orders_truck)\n",
    "execute_query(connection, create_delivery_table)"
   ]
  },
  {
   "cell_type": "markdown",
   "metadata": {},
   "source": [
    "### 4. Populate Tables\n"
   ]
  },
  {
   "cell_type": "markdown",
   "metadata": {},
   "source": [
    "#### 4.1 - Populate Staff Table\n",
    "As part of the data management strategy for LCL Logistics, let's populate the `staff` table. This action involves inserting relevant data for staff members that might be involved in logistics operations, such as drivers, warehouse managers, etc.\n"
   ]
  },
  {
   "cell_type": "code",
   "execution_count": 10,
   "metadata": {},
   "outputs": [
    {
     "name": "stdout",
     "output_type": "stream",
     "text": [
      "Query successful\n"
     ]
    }
   ],
   "source": [
    "\n",
    "# SQL command to insert data into the staff table\n",
    "pop_staff = \"\"\"\n",
    "INSERT INTO staff VALUES\n",
    "(1, 'James', 'Smith', 'Driver', 'Class A', '1985-04-20', 12345, '+491774553676'),\n",
    "(2, 'Stefanie', 'Martin', 'Dispatcher', NULL, '1970-02-17', 23456, '+491234567890'), \n",
    "(3, 'Steve', 'Wang', 'Logistics Manager', 'Project Management', '1990-11-12', 34567, '+447840921333'),\n",
    "(4, 'Friederike', 'Müller-Rossi', 'Fleet Coordinator', 'Mechanical Cert', '1987-07-07', 45678, '+492345678901'),\n",
    "(5, 'Isobel', 'Ivanova', 'Inventory Specialist', 'Supply Chain Mx', '1963-05-30', 56789, '+491772635467'),\n",
    "(6, 'Niamh', 'Murphy', 'HR Manager', 'HR Training', '1995-09-08', 67890, '+491231231232');\n",
    "\"\"\"\n",
    "\n",
    "# Execute the query to populate the staff table\n",
    "execute_query(connection, pop_staff)\n"
   ]
  },
  {
   "cell_type": "markdown",
   "metadata": {},
   "source": [
    "#### 4.2 - Populate Remaining Tables\n",
    "We'll now insert sample data into the `customers`, `trucks`, and `orders` tables, which are central to the operations at LCL Logistics. This step is crucial for setting up a realistic dataset to test and manage logistics operations effectively.\n"
   ]
  },
  {
   "cell_type": "code",
   "execution_count": 11,
   "metadata": {},
   "outputs": [
    {
     "name": "stdout",
     "output_type": "stream",
     "text": [
      "Query successful\n",
      "Query successful\n",
      "Query successful\n"
     ]
    }
   ],
   "source": [
    "\n",
    "# SQL command to insert data into the customers table\n",
    "pop_customers = \"\"\"\n",
    "INSERT INTO customers VALUES\n",
    "(1, 'BigBox Retailers', '123 Commerce Rd.', '+18005551234'),\n",
    "(2, 'Tech Gadgets Ltd.', '456 Innovation Dr.', '+18007772345'),\n",
    "(3, 'Farm Fresh Produce', '789 Country Rd.', '+18003334455');\n",
    "\"\"\"\n",
    "\n",
    "# SQL command to insert data into the trucks table\n",
    "pop_trucks = \"\"\"\n",
    "INSERT INTO trucks VALUES\n",
    "(101, 'AB123CD', 'Volvo FMX', 20, '2023-01-10'),\n",
    "(102, 'EF456GH', 'Mercedes Actros', 15, '2023-02-20'),\n",
    "(103, 'IJ789KL', 'Scania S-series', 25, '2023-03-15');\n",
    "\"\"\"\n",
    "\n",
    "# SQL command to insert data into the orders table\n",
    "pop_orders = \"\"\"\n",
    "INSERT INTO orders VALUES\n",
    "(1001, 'Apples', 1200, '2024-03-01', '2024-03-03', 3, 101),\n",
    "(1002, 'Laptops', 50, '2024-03-02', '2024-03-04', 2, 102),\n",
    "(1003, 'Tomatoes', 800, '2024-03-02', '2024-03-03', 3, 103);\n",
    "\"\"\"\n",
    "\n",
    "# Execute the queries to populate the tables\n",
    "execute_query(connection, pop_customers)\n",
    "execute_query(connection, pop_trucks)\n",
    "execute_query(connection, pop_orders)\n"
   ]
  },
  {
   "cell_type": "markdown",
   "metadata": {},
   "source": [
    "### 5. Reading Data\n"
   ]
  },
  {
   "cell_type": "markdown",
   "metadata": {},
   "source": [
    "#### 5.1 - Define Data Reading Function\n",
    "To access and analyze the data within the logistics database effectively, we need a function capable of executing read queries and fetching the results. This function will be integral to reviewing data related to trucks, orders, and customer interactions, crucial for operational decisions at LCL Logistics.\n"
   ]
  },
  {
   "cell_type": "code",
   "execution_count": 12,
   "metadata": {},
   "outputs": [
    {
     "name": "stdout",
     "output_type": "stream",
     "text": [
      "(1, 'BigBox Retailers', '123 Commerce Rd.', '+18005551234')\n",
      "(2, 'Tech Gadgets Ltd.', '456 Innovation Dr.', '+18007772345')\n",
      "(3, 'Farm Fresh Produce', '789 Country Rd.', '+18003334455')\n"
     ]
    }
   ],
   "source": [
    "def read_query(connection, query):\n",
    "    cursor = connection.cursor()\n",
    "    result = None\n",
    "    try:\n",
    "        cursor.execute(query)\n",
    "        result = cursor.fetchall()\n",
    "        for row in result:\n",
    "            print(row)\n",
    "    except pyodbc.Error as err:\n",
    "        print(f\"Error: '{err}'\")\n",
    "    return result\n",
    "\n",
    "# Example usage of the read_query function\n",
    "# This is an example to fetch all entries from the customers table\n",
    "query = \"SELECT * FROM customers;\"\n",
    "results = read_query(connection, query)\n"
   ]
  },
  {
   "cell_type": "markdown",
   "metadata": {},
   "source": [
    "### 5.2 - Read Data from Database\n",
    "Let's try this with a simple query to begin with.\n"
   ]
  },
  {
   "cell_type": "code",
   "execution_count": 13,
   "metadata": {},
   "outputs": [
    {
     "name": "stdout",
     "output_type": "stream",
     "text": [
      "(1001, 'Apples', 1200, datetime.date(2024, 3, 1), datetime.date(2024, 3, 3), 3, 101)\n",
      "(1002, 'Laptops', 50, datetime.date(2024, 3, 2), datetime.date(2024, 3, 4), 2, 102)\n",
      "(1003, 'Tomatoes', 800, datetime.date(2024, 3, 2), datetime.date(2024, 3, 3), 3, 103)\n",
      "(1001, 'Apples', 1200, datetime.date(2024, 3, 1), datetime.date(2024, 3, 3), 3, 101)\n",
      "(1002, 'Laptops', 50, datetime.date(2024, 3, 2), datetime.date(2024, 3, 4), 2, 102)\n",
      "(1003, 'Tomatoes', 800, datetime.date(2024, 3, 2), datetime.date(2024, 3, 3), 3, 103)\n"
     ]
    }
   ],
   "source": [
    "\n",
    "q1 = \"\"\"\n",
    "SELECT *\n",
    "FROM orders;\n",
    "\"\"\"\n",
    "\n",
    "results = read_query(connection, q1)\n",
    "\n",
    "for result in results:\n",
    "  print(result)"
   ]
  },
  {
   "cell_type": "markdown",
   "metadata": {},
   "source": [
    "#### Additional queries for the provided schemas\n"
   ]
  },
  {
   "cell_type": "code",
   "execution_count": 14,
   "metadata": {},
   "outputs": [
    {
     "name": "stdout",
     "output_type": "stream",
     "text": [
      "(1002, 'Laptops', 50, datetime.date(2024, 3, 2), datetime.date(2024, 3, 4), 'Tech Gadgets Ltd.', '456 Innovation Dr.', 'EF456GH', 'Mercedes Actros')\n",
      "(1001, 'Apples', 1200, datetime.date(2024, 3, 1), datetime.date(2024, 3, 3), 'Farm Fresh Produce', '789 Country Rd.', 'AB123CD', 'Volvo FMX')\n",
      "(1003, 'Tomatoes', 800, datetime.date(2024, 3, 2), datetime.date(2024, 3, 3), 'Farm Fresh Produce', '789 Country Rd.', 'IJ789KL', 'Scania S-series')\n",
      "(1002, 'Laptops', 50, datetime.date(2024, 3, 2), datetime.date(2024, 3, 4), 'Tech Gadgets Ltd.', '456 Innovation Dr.', 'EF456GH', 'Mercedes Actros')\n",
      "(1001, 'Apples', 1200, datetime.date(2024, 3, 1), datetime.date(2024, 3, 3), 'Farm Fresh Produce', '789 Country Rd.', 'AB123CD', 'Volvo FMX')\n",
      "(1003, 'Tomatoes', 800, datetime.date(2024, 3, 2), datetime.date(2024, 3, 3), 'Farm Fresh Produce', '789 Country Rd.', 'IJ789KL', 'Scania S-series')\n"
     ]
    }
   ],
   "source": [
    "# Query to select customer last names and dates of birth\n",
    "q2 = \"\"\"\n",
    "SELECT customer_name, contact_phone\n",
    "FROM customers;\n",
    "\"\"\"\n",
    "\n",
    "# Query to select all truck records ordered by maintenance date descending where the capacity is greater than 5 tons\n",
    "q3 = \"\"\"\n",
    "SELECT *\n",
    "FROM trucks\n",
    "WHERE capacity_ton > 5\n",
    "ORDER BY maintenance_date DESC;\n",
    "\"\"\"\n",
    "\n",
    "# Query to select customer names and contact phones for customers who have placed orders\n",
    "q4 = \"\"\"\n",
    "SELECT customer_name, contact_phone\n",
    "FROM customers\n",
    "WHERE customer_id IN (SELECT DISTINCT customer_id FROM orders);\n",
    "\"\"\"\n",
    "\n",
    "# Query to select order details along with customer and truck information for orders delivered outside the school\n",
    "q5 = \"\"\"\n",
    "SELECT orders.order_id, orders.product_name, orders.quantity, orders.order_date, orders.delivery_date, \n",
    "       customers.customer_name, customers.address AS customer_address, trucks.license_plate, trucks.model\n",
    "FROM orders\n",
    "JOIN customers ON orders.customer_id = customers.customer_id\n",
    "JOIN trucks ON orders.truck_id = trucks.truck_id\n",
    "WHERE orders.delivery_date IS NOT NULL;\n",
    "\"\"\"\n",
    "\n",
    "results = read_query(connection, q5)\n",
    "\n",
    "# Display results\n",
    "for result in results:\n",
    "    print(result)\n"
   ]
  },
  {
   "cell_type": "markdown",
   "metadata": {},
   "source": [
    "### 5.3 - Formatting Output into a List\n",
    "Now we can assign the results to a list, to use further in our python applications or scripts.\n",
    "\n",
    "The following code returns the results of our query as a list of tuples.\n"
   ]
  },
  {
   "cell_type": "code",
   "execution_count": 15,
   "metadata": {},
   "outputs": [
    {
     "name": "stdout",
     "output_type": "stream",
     "text": [
      "[(1002, 'Laptops', 50, datetime.date(2024, 3, 2), datetime.date(2024, 3, 4), 'Tech Gadgets Ltd.', '456 Innovation Dr.', 'EF456GH', 'Mercedes Actros'), (1001, 'Apples', 1200, datetime.date(2024, 3, 1), datetime.date(2024, 3, 3), 'Farm Fresh Produce', '789 Country Rd.', 'AB123CD', 'Volvo FMX'), (1003, 'Tomatoes', 800, datetime.date(2024, 3, 2), datetime.date(2024, 3, 3), 'Farm Fresh Produce', '789 Country Rd.', 'IJ789KL', 'Scania S-series')]\n"
     ]
    }
   ],
   "source": [
    "#Initialise empty list\n",
    "from_db = []\n",
    "\n",
    "# Loop over the results and append them into our list, different styles\n",
    "\n",
    "# Returns a list of tuples\n",
    "for result in results:\n",
    "  result = result\n",
    "  from_db.append(result)\n",
    "    \n",
    "print(from_db)"
   ]
  },
  {
   "cell_type": "markdown",
   "metadata": {},
   "source": [
    "### 5.4 - Formatting Output into a List of Lists\n",
    "If we want to, we can make this return a list of lists instead, like so:\n"
   ]
  },
  {
   "cell_type": "code",
   "execution_count": 16,
   "metadata": {},
   "outputs": [
    {
     "name": "stdout",
     "output_type": "stream",
     "text": [
      "[[1002, 'Laptops', 50, datetime.date(2024, 3, 2), datetime.date(2024, 3, 4), 'Tech Gadgets Ltd.', '456 Innovation Dr.', 'EF456GH', 'Mercedes Actros'], [1001, 'Apples', 1200, datetime.date(2024, 3, 1), datetime.date(2024, 3, 3), 'Farm Fresh Produce', '789 Country Rd.', 'AB123CD', 'Volvo FMX'], [1003, 'Tomatoes', 800, datetime.date(2024, 3, 2), datetime.date(2024, 3, 3), 'Farm Fresh Produce', '789 Country Rd.', 'IJ789KL', 'Scania S-series']]\n"
     ]
    }
   ],
   "source": [
    "# Returns a list of lists\n",
    "from_db = []\n",
    "\n",
    "for result in results:\n",
    "  result = list(result)\n",
    "  from_db.append(result)\n",
    "    \n",
    "print(from_db)"
   ]
  },
  {
   "cell_type": "code",
   "execution_count": null,
   "metadata": {},
   "outputs": [],
   "source": [
    "# Returns a list of lists and then creates a pandas DataFrame\n",
    "from_db = []\n",
    "\n",
    "for result in results:\n",
    "  result = list(result)\n",
    "  from_db.append(result)\n",
    "\n",
    "\n",
    "columns = [\"course_id\", \"course_name\", \"language\", \"client_name\", \"address\"]\n",
    "df = pd.DataFrame(from_db, columns=columns)\n",
    "\n",
    "display(df)"
   ]
  },
  {
   "cell_type": "code",
   "execution_count": 17,
   "metadata": {},
   "outputs": [
    {
     "data": {
      "text/html": [
       "<div>\n",
       "<style scoped>\n",
       "    .dataframe tbody tr th:only-of-type {\n",
       "        vertical-align: middle;\n",
       "    }\n",
       "\n",
       "    .dataframe tbody tr th {\n",
       "        vertical-align: top;\n",
       "    }\n",
       "\n",
       "    .dataframe thead th {\n",
       "        text-align: right;\n",
       "    }\n",
       "</style>\n",
       "<table border=\"1\" class=\"dataframe\">\n",
       "  <thead>\n",
       "    <tr style=\"text-align: right;\">\n",
       "      <th></th>\n",
       "      <th>order_id</th>\n",
       "      <th>product_name</th>\n",
       "      <th>quantity</th>\n",
       "      <th>order_date</th>\n",
       "      <th>delivery_date</th>\n",
       "      <th>customer_name</th>\n",
       "      <th>customer_address</th>\n",
       "      <th>license_plate</th>\n",
       "      <th>model</th>\n",
       "    </tr>\n",
       "  </thead>\n",
       "  <tbody>\n",
       "    <tr>\n",
       "      <th>0</th>\n",
       "      <td>1002</td>\n",
       "      <td>Laptops</td>\n",
       "      <td>50</td>\n",
       "      <td>2024-03-02</td>\n",
       "      <td>2024-03-04</td>\n",
       "      <td>Tech Gadgets Ltd.</td>\n",
       "      <td>456 Innovation Dr.</td>\n",
       "      <td>EF456GH</td>\n",
       "      <td>Mercedes Actros</td>\n",
       "    </tr>\n",
       "    <tr>\n",
       "      <th>1</th>\n",
       "      <td>1001</td>\n",
       "      <td>Apples</td>\n",
       "      <td>1200</td>\n",
       "      <td>2024-03-01</td>\n",
       "      <td>2024-03-03</td>\n",
       "      <td>Farm Fresh Produce</td>\n",
       "      <td>789 Country Rd.</td>\n",
       "      <td>AB123CD</td>\n",
       "      <td>Volvo FMX</td>\n",
       "    </tr>\n",
       "    <tr>\n",
       "      <th>2</th>\n",
       "      <td>1003</td>\n",
       "      <td>Tomatoes</td>\n",
       "      <td>800</td>\n",
       "      <td>2024-03-02</td>\n",
       "      <td>2024-03-03</td>\n",
       "      <td>Farm Fresh Produce</td>\n",
       "      <td>789 Country Rd.</td>\n",
       "      <td>IJ789KL</td>\n",
       "      <td>Scania S-series</td>\n",
       "    </tr>\n",
       "  </tbody>\n",
       "</table>\n",
       "</div>"
      ],
      "text/plain": [
       "   order_id product_name  quantity  order_date delivery_date  \\\n",
       "0      1002      Laptops        50  2024-03-02    2024-03-04   \n",
       "1      1001       Apples      1200  2024-03-01    2024-03-03   \n",
       "2      1003     Tomatoes       800  2024-03-02    2024-03-03   \n",
       "\n",
       "        customer_name    customer_address license_plate            model  \n",
       "0   Tech Gadgets Ltd.  456 Innovation Dr.       EF456GH  Mercedes Actros  \n",
       "1  Farm Fresh Produce     789 Country Rd.       AB123CD        Volvo FMX  \n",
       "2  Farm Fresh Produce     789 Country Rd.       IJ789KL  Scania S-series  "
      ]
     },
     "metadata": {},
     "output_type": "display_data"
    }
   ],
   "source": [
    "# Imports pandas library\n",
    "import pandas as pd\n",
    "\n",
    "# List to store results from the database\n",
    "from_db = []\n",
    "\n",
    "# Appending results to the list\n",
    "for result in results:\n",
    "    result = list(result)\n",
    "    from_db.append(result)\n",
    "\n",
    "# Define column names for DataFrame\n",
    "columns = [\"order_id\", \"product_name\", \"quantity\", \"order_date\", \"delivery_date\", \"customer_name\", \"customer_address\", \"license_plate\", \"model\"]\n",
    "\n",
    "# Create DataFrame using pandas\n",
    "df = pd.DataFrame(from_db, columns=columns)\n",
    "\n",
    "# Display the DataFrame\n",
    "display(df)\n"
   ]
  },
  {
   "cell_type": "markdown",
   "metadata": {},
   "source": [
    "## 6. Updating Records\n",
    "Sometimes we will need to update our Database. We can do this very easily using our execute_query function alongside the SQL UPDATE statement.\n"
   ]
  },
  {
   "cell_type": "markdown",
   "metadata": {},
   "source": [
    "\n",
    "### 6.1 - Updating Client Address\n",
    "The School receives notification that the Big Business Federation has moved office, and now they are located at 23 Fingiertweg, 14534 Berlin. We can change that in our database like so:\n"
   ]
  },
  {
   "cell_type": "code",
   "execution_count": 18,
   "metadata": {},
   "outputs": [
    {
     "name": "stdout",
     "output_type": "stream",
     "text": [
      "Error: 'You have an error in your SQL syntax; check the manual that corresponds to your MariaDB server version for the right syntax to use near '<customer_id_to_update>' at line 3'\n"
     ]
    }
   ],
   "source": [
    "# SQL UPDATE statement to update customer's address\n",
    "update = \"\"\"\n",
    "UPDATE customers \n",
    "SET address = '23 Fingiertweg, 14534 Berlin' \n",
    "WHERE customer_id = <customer_id_to_update>;\n",
    "\"\"\"\n",
    "\n",
    "# Execute the update query\n",
    "execute_query(connection, update)\n"
   ]
  },
  {
   "cell_type": "markdown",
   "metadata": {},
   "source": [
    "Let's see if that worked."
   ]
  },
  {
   "cell_type": "code",
   "execution_count": null,
   "metadata": {},
   "outputs": [],
   "source": [
    "q1 = \"\"\"\n",
    "SELECT *\n",
    "FROM customer\n",
    "WHERE customer_id = <customer_id_to_update>;\n",
    "\"\"\"\n",
    "\n",
    "results = read_query(connection, q1)\n",
    "\n",
    "for result in results:\n",
    "  print(result)"
   ]
  },
  {
   "cell_type": "markdown",
   "metadata": {},
   "source": [
    "### 7. Deleting Records\n"
   ]
  },
  {
   "cell_type": "markdown",
   "metadata": {},
   "source": [
    "\n",
    "#### 7.1 - Deleting a Course\n",
    "\n",
    "We can also use our `execute_query` function to delete records, by using `DELETE FROM`.\n",
    "\n",
    "Let's try this with our `orders` table. First, let's remind ourselves of the courses contained in the table.\n"
   ]
  },
  {
   "cell_type": "code",
   "execution_count": 21,
   "metadata": {},
   "outputs": [
    {
     "name": "stdout",
     "output_type": "stream",
     "text": [
      "(1002, 'Laptops', 50, datetime.date(2024, 3, 2), datetime.date(2024, 3, 4), 2, 102)\n",
      "(1003, 'Tomatoes', 800, datetime.date(2024, 3, 2), datetime.date(2024, 3, 3), 3, 103)\n",
      "(1002, 'Laptops', 50, datetime.date(2024, 3, 2), datetime.date(2024, 3, 4), 2, 102)\n",
      "(1003, 'Tomatoes', 800, datetime.date(2024, 3, 2), datetime.date(2024, 3, 3), 3, 103)\n"
     ]
    }
   ],
   "source": [
    "q1 = \"\"\"\n",
    "SELECT *\n",
    "FROM orders;\n",
    "\"\"\"\n",
    "\n",
    "results = read_query(connection, q1)\n",
    "\n",
    "from_db = []\n",
    "\n",
    "for result in results:\n",
    "  print(result)"
   ]
  },
  {
   "cell_type": "markdown",
   "metadata": {},
   "source": [
    "Let's delete the order with order_id 1001  - 'Apples'. For this we will use the DELETE SQL command."
   ]
  },
  {
   "cell_type": "code",
   "execution_count": 20,
   "metadata": {},
   "outputs": [
    {
     "name": "stdout",
     "output_type": "stream",
     "text": [
      "Query successful\n"
     ]
    }
   ],
   "source": [
    "delete_course = \"\"\"\n",
    "DELETE FROM orders WHERE order_id = 1001;\n",
    "\"\"\"\n",
    "\n",
    "execute_query(connection, delete_course)"
   ]
  },
  {
   "cell_type": "markdown",
   "metadata": {},
   "source": [
    "## 8. Creating Records from Lists\n"
   ]
  },
  {
   "cell_type": "markdown",
   "metadata": {},
   "source": [
    "We saw in Section 4 that we can use the SQL INSERT command in our `execute_query` function to insert records into our tables.\n",
    "\n",
    "MySQL Connector also gives us a way to do this in a more 'pythonic' fashion, using a list of tuples as our input, where each tuple contains the data we wish to insert into our table. This is extremely useful for updating our database with data which may have been generated by an application we have written in Python, such as logs of user activity on a social media app, for example.\n",
    "\n",
    "To do this, we will use the `executemany()` method, instead of the simpler `execute()` method we have been using thus far.\n",
    "\n",
    "This method is also more secure if our database is open to our users at any point, as it helps to prevent against SQL Injection attacks, which can damage or even destroy our whole database.\n"
   ]
  },
  {
   "cell_type": "markdown",
   "metadata": {},
   "source": [
    "### 8.1 - Create Execute List Query Function\n",
    "\n",
    "To see how we can do this, let's add a couple of new teachers to our teacher table.\n",
    "\n",
    "First, let's modify our `execute_query` function to use `executemany()` and to accept one more argument.\n"
   ]
  },
  {
   "cell_type": "code",
   "execution_count": 22,
   "metadata": {},
   "outputs": [],
   "source": [
    "def execute_list_query(connection, sql, val):\n",
    "    cursor = connection.cursor()\n",
    "    try:\n",
    "        cursor.executemany(sql, val)\n",
    "        connection.commit()\n",
    "        print(\"Query successful\")\n",
    "    except Exception as err:\n",
    "        print(f\"Error: '{err}'\")"
   ]
  },
  {
   "cell_type": "markdown",
   "metadata": {},
   "source": [
    "### 8.2 - Add New Staff\n",
    "\n",
    "Now let's create a list containing the data for our new staff (each stored within a tuple), and the SQL command to perform our action.\n",
    "\n",
    "Notice that the SQL command requires a '%s' placeholder for each of the columns we wish to act upon, so in this case we need 8 for the 8 columns we wish to add values for.\n"
   ]
  },
  {
   "cell_type": "code",
   "execution_count": 23,
   "metadata": {},
   "outputs": [
    {
     "name": "stdout",
     "output_type": "stream",
     "text": [
      "Query successful\n"
     ]
    }
   ],
   "source": [
    "# SQL INSERT statement to insert data into the staff table\n",
    "sql = '''\n",
    "    INSERT INTO staff (staff_id, first_name, last_name, role, certification, dob, tax_id, phone_no) \n",
    "    VALUES (%s, %s, %s, %s, %s, %s, %s, %s)\n",
    "    '''\n",
    "\n",
    "# Values to be inserted into the staff table\n",
    "val = [\n",
    "    (7, 'Hank', 'Dodson', 'ENG', None, '1991-12-23', 11111, '+491772345678'), \n",
    "    (8, 'Sue', 'Perkins', 'MAN', 'ENG', '1976-02-02', 22222, '+491443456432')\n",
    "]\n",
    "\n",
    "# Execute the insert query\n",
    "execute_list_query(connection, sql, val)\n"
   ]
  },
  {
   "cell_type": "markdown",
   "metadata": {},
   "source": [
    "## 9. Conclusion\n",
    "\n",
    "### 9.1 - Conclusion\n",
    "\n",
    "We have covered a lot of ground in this tutorial. From using Python and MySQL Connector to create an entirely new database in MySQL Server, creating tables, defining their relationships to one another and populating them with data. We have covered how to Create, Read, Update and Delete data in our database.\n",
    "\n",
    "We have looked at how to extract data from existing databases and load them into pandas DataFrames, ready for analysis and further work taking advantage of all the possibilities offered by the PyData stack. Going the other direction, we have also learned how to take data generated by our Python scripts and applications, and write those into a database where they can be safely stored for later retrieval.\n",
    "\n",
    "I hope it is clear just how powerful each of these programming languages can be for Data Analysts. Using them together makes them even stronger.\n"
   ]
  }
 ],
 "metadata": {
  "kernelspec": {
   "display_name": "Python 3",
   "language": "python",
   "name": "python3"
  },
  "language_info": {
   "codemirror_mode": {
    "name": "ipython",
    "version": 3
   },
   "file_extension": ".py",
   "mimetype": "text/x-python",
   "name": "python",
   "nbconvert_exporter": "python",
   "pygments_lexer": "ipython3",
   "version": "3.11.7"
  }
 },
 "nbformat": 4,
 "nbformat_minor": 2
}
