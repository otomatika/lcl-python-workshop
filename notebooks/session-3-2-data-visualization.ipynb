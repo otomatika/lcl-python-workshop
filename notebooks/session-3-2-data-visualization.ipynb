{
 "cells": [
  {
   "cell_type": "markdown",
   "metadata": {},
   "source": [
    "# <div align='center'>Introduction to Python for data analysis: Data visualization libraries</div>\n",
    "\n",
    "Effective data analysis often relies on the ability to convey insights through visual representations. In this course, we'll delve into three of Python's most widely used data visualization libraries, [matplotlib](https://matplotlib.org/), [Plotly](https://plotly.com/python/) and [seaborn](https://seaborn.pydata.org/), showcasing their power through practical examples.\n",
    "\n",
    "# Contents\n",
    "\n",
    "1. <a href=\"#matplotlib\">The matplotlib library</a>\n",
    "    1. <a href=\"#matplotlib_hist\">How to make a histogram?</a>\n",
    "    2. <a href=\"#matplotlib_bar\">How to make a bar plot?</a>\n",
    "    3. <a href=\"#matplotlib_line\">How to make a line plot?</a>\n",
    "    4. <a href=\"#matplotlib_scatter\">How to make a scatter figure?</a>\n",
    "    5. <a href=\"#matplotlib_style\">Style your figures</a>\n",
    "    6. <a href=\"#matplotlib_multiple_lines\">How to show two or more line plot lines together?</a>\n",
    "    7. <a href=\"#matplotlib_stack\">How to make a stack plot?</a>\n",
    "    8. <a href=\"#matplotlib_grouped_bar_chart\">How to make a grouped bar chart?</a>\n",
    "    9. <a href=\"#matplotlib_savefig\">How to save figures?</a>\n",
    "2. <a href=\"#plotly\">The Plotly library</a>\n",
    "    1. <a href=\"#plotly_hists\">Histograms</a>\n",
    "    2. <a href='#plotly_bar_charts'>Bar charts</a>\n",
    "    3. <a href='#plotly_line_charts'>Line charts</a>\n",
    "    4. <a href='#plotly_scatter_plots'>Scatter plots</a>\n",
    "    5. <a href=\"#plotly_export\">How to export figures?</a>\n",
    "3. <a href=\"#seaborn\">The seaborn library</a>\n",
    "    1. <a href='#plotly_hists'>Histograms and bar charts</a>\n",
    "    2. <a href='#plotly_line_plots'>Line plots</a>\n",
    "    3. <a href='#plotly_scatter_plots'>Scatter plots</a>\n",
    "    4. <a href='#plotly_savefig'>How to export figures?</a>"
   ]
  },
  {
   "cell_type": "markdown",
   "metadata": {},
   "source": [
    "## <div id='matplotlib'>1. The matplotlib library</div>\n",
    "\n",
    "Let's first import the matplotlib library:"
   ]
  },
  {
   "cell_type": "code",
   "execution_count": null,
   "metadata": {},
   "outputs": [],
   "source": [
    "import matplotlib.pyplot as plt"
   ]
  },
  {
   "cell_type": "markdown",
   "metadata": {},
   "source": [
    "If the above didn't work, please run the following on a terminal/console:\n",
    "```\n",
    "pip install matplotlib\n",
    "```\n",
    "or\n",
    "```\n",
    "pip3 install matplotlib\n",
    "```"
   ]
  },
  {
   "cell_type": "markdown",
   "metadata": {},
   "source": [
    "### <div id='matplotlib_hist'>1.A. How to make a histogram?</div>\n",
    "\n",
    "*In a histogram, the axis representing the data is divided into a set of discrete bins and the count of observations in each bin is shown using the height of the corresponding bar.*\n",
    "\n",
    "A histogram can be produced using the ```hist()``` function. Let's see an example, let's generate numbers in the [0,10] range and make a histogram, if the number of generated numbers is sufficiently high, the distribution should be flat."
   ]
  },
  {
   "cell_type": "code",
   "execution_count": null,
   "metadata": {},
   "outputs": [],
   "source": [
    "from random import randrange\n",
    "\n",
    "# Geneate 100000 random numbers b/w 0 and 10\n",
    "n_to_generate = 100000\n",
    "numbers = [randrange(10) for _ in range(n_to_generate)]\n",
    "\n",
    "# Plot the distribution of the generated numbers\n",
    "plt.hist(numbers)\n",
    "plt.show()"
   ]
  },
  {
   "cell_type": "markdown",
   "metadata": {},
   "source": [
    "For more information and options see [matplotlib.pyplot.hist](https://matplotlib.org/stable/api/_as_gen/matplotlib.pyplot.hist.html).\n",
    "\n",
    "**Note:** A histogram shows values for numerical data, while a bar plot (see following section) shows values over categorical data."
   ]
  },
  {
   "cell_type": "markdown",
   "metadata": {},
   "source": [
    "### <div id='matplotlib_bar'>1.B. How to make a bar plot?</div>\n",
    "\n",
    "A bar plot/chart can be produced using the ```bar(x, height)``` function. The ```x``` argument should be used to set the coordinates of the bars, while the ```height``` argument sets the height(s) of the bars.\n",
    "\n",
    "Let's see an example, I will create dictionary containing different categories each associated to a numerical value which will be the height of each category. For example, this dictionary could represent the number of sales for different categories of products. I will then sort the dictionary by values (not keys) and then make a bar chart."
   ]
  },
  {
   "cell_type": "code",
   "execution_count": null,
   "metadata": {},
   "outputs": [],
   "source": [
    "data_dict = {\n",
    "    'CategoryA': 121,\n",
    "    'CategoryB': 154,\n",
    "    'CategoryC': 118,\n",
    "    'CategoryD': 183,\n",
    "    'CategoryE': 89,\n",
    "    'CategoryF': 117\n",
    "}\n",
    "sorted_data_dict = dict(sorted(data_dict.items(), key=lambda x:x[1], reverse=True))\n",
    "\n",
    "# Plot the distribution of the generated numbers\n",
    "plt.bar(sorted_data_dict.keys(), sorted_data_dict.values())\n",
    "plt.show()"
   ]
  },
  {
   "cell_type": "markdown",
   "metadata": {},
   "source": [
    "You can find more information and examples for bar charts in [matplotlib.pyplot.bar](https://matplotlib.org/stable/api/_as_gen/matplotlib.pyplot.bar.html)."
   ]
  },
  {
   "cell_type": "markdown",
   "metadata": {},
   "source": [
    "### <div id='matplotlib_line'>1.C. How to make a line plot?</div>\n",
    "\n",
    "Let's generate data that shows a perfect linear dependency and create a line plot using the ```plot()``` function:"
   ]
  },
  {
   "cell_type": "code",
   "execution_count": null,
   "metadata": {},
   "outputs": [],
   "source": [
    "# Let's generate (x,y) points\n",
    "x = [0, 1, 2, 3, 4, 5, 6]\n",
    "y = [item * 2 for item in x]\n",
    "\n",
    "# Let's plot y vs x\n",
    "plt.plot(x, y)\n",
    "plt.show()"
   ]
  },
  {
   "cell_type": "markdown",
   "metadata": {},
   "source": [
    "We could also show those points as markerts instead of showing them as a line. Here is how you do it:"
   ]
  },
  {
   "cell_type": "code",
   "execution_count": null,
   "metadata": {},
   "outputs": [],
   "source": [
    "# Let's plot y vs x\n",
    "plt.plot(x, y, marker = 'o', linestyle = \"None\")\n",
    "plt.show()"
   ]
  },
  {
   "cell_type": "markdown",
   "metadata": {},
   "source": [
    "Learn about other marker options [here](https://matplotlib.org/stable/api/markers_api.html).\n",
    "\n",
    "Learn about other line style options [here](https://matplotlib.org/stable/gallery/lines_bars_and_markers/linestyles.html).\n",
    "\n",
    "For more information and options in the ```plot()``` functions see [matplotlib.pyplot.plot](https://matplotlib.org/stable/api/_as_gen/matplotlib.pyplot.plot.html)."
   ]
  },
  {
   "cell_type": "markdown",
   "metadata": {},
   "source": [
    "### <div id='matplotlib_scatter'>1.D. How to make a scatter figure?</div>\n",
    "\n",
    "Let's generate some random data along two axes and make a scatter figure:"
   ]
  },
  {
   "cell_type": "code",
   "execution_count": null,
   "metadata": {},
   "outputs": [],
   "source": [
    "# Generate data\n",
    "from random import gauss\n",
    "npoints = 1000\n",
    "x_scattered = [gauss(5, 1) for _ in range(npoints)]\n",
    "y_scattered = [gauss(100, 10) for _ in range(npoints)]\n",
    "\n",
    "# Make a scatter figure\n",
    "plt.scatter(x_scattered, y_scattered)\n",
    "plt.show()"
   ]
  },
  {
   "cell_type": "markdown",
   "metadata": {},
   "source": [
    "For more information and options see [matplotlib.pyplot.scatter](https://matplotlib.org/stable/api/_as_gen/matplotlib.pyplot.scatter.html)."
   ]
  },
  {
   "cell_type": "markdown",
   "metadata": {},
   "source": [
    "### <div id='matplotlib_style'>1.E. Style your figures</div>\n",
    "\n",
    "#### Axis labels\n",
    "\n",
    "For labeling the x-axis (y-axis), we use the ```xlabel()``` (```ylabel()```) function. Let's reproduce the histogram and add axis labels:"
   ]
  },
  {
   "cell_type": "code",
   "execution_count": null,
   "metadata": {},
   "outputs": [],
   "source": [
    "# Plot the distribution of the generated numbers\n",
    "plt.hist(numbers)\n",
    "plt.xlabel('Randomly-generated number')\n",
    "plt.ylabel('Entries')\n",
    "plt.show()"
   ]
  },
  {
   "cell_type": "markdown",
   "metadata": {},
   "source": [
    "#### Legends\n",
    "\n",
    "Legends are short text descriptions of the curves/histograms/scatter plots shown. They are particular helpful when showing two or more line plots/histograms together, so the user can easily identify what is being shown.\n",
    "\n",
    "When creating a histogram, a line plot, a bar chart or a scatter figure, we can add a label (a string that identifies it) by setting the ```label``` argument. Then, we can show all legends by using the ```legend()``` function. The position where the legend is shown is chosen automatically but we can choose a position ourselves by setting the ```loc``` attribute (options: ```'upper left'```, ```'upper right'```, ```'upper center'```, ```'lower left'```, ```'lower right'```, ```'lower center'```, ```'center left'```, ```'center right'```, ```'center'```).\n",
    "\n",
    "Let's continue with our histogram produced before and add a legend to the lower left corner:"
   ]
  },
  {
   "cell_type": "code",
   "execution_count": null,
   "metadata": {},
   "outputs": [],
   "source": [
    "# Plot the distribution of the generated numbers\n",
    "plt.hist(numbers, label='Uniform distribution')\n",
    "plt.xlabel('Randomly-generated number')\n",
    "plt.ylabel('Entries')\n",
    "plt.legend(loc='lower left')\n",
    "plt.show()"
   ]
  },
  {
   "cell_type": "markdown",
   "metadata": {},
   "source": [
    "You can find more information about legends in [matplotlib.pyplot.legend](https://matplotlib.org/stable/api/_as_gen/matplotlib.pyplot.legend.html)."
   ]
  },
  {
   "cell_type": "markdown",
   "metadata": {},
   "source": [
    "#### Axes ranges\n",
    "\n",
    "Let's come back to the scatter figure we produced before and image we wish to restrict the ranges of the axes. We can do that by using the ```xlim()``` and ```ylim()``` functions, respectively for the ```x``` and ```y``` axes. Let's reproduce the scatter figure but restricting the ```x``` axis to the ```[3, 7]``` range and the ```y``` axis to the ```[80, 120]``` range:"
   ]
  },
  {
   "cell_type": "code",
   "execution_count": null,
   "metadata": {},
   "outputs": [],
   "source": [
    "# Make a scatter figure with new axes\n",
    "plt.scatter(x_scattered, y_scattered)\n",
    "plt.xlim([3, 7])\n",
    "plt.ylim([80, 120])\n",
    "plt.show()"
   ]
  },
  {
   "cell_type": "markdown",
   "metadata": {},
   "source": [
    "#### Colors\n",
    "\n",
    "In every figure, we can choose the color of the objects being shown. In order to choose the color, we just need to set the ```color``` argument. For example, let's redo the histogram and set its color to green (we can use ```'green'``` or just ```'g'```):"
   ]
  },
  {
   "cell_type": "code",
   "execution_count": null,
   "metadata": {},
   "outputs": [],
   "source": [
    "# Plot the distribution of the generated numbers\n",
    "plt.hist(numbers, label='Uniform distribution', color='green')\n",
    "plt.xlabel('Randomly-generated number')\n",
    "plt.ylabel('Entries')\n",
    "plt.legend(loc='lower left')\n",
    "plt.show()"
   ]
  },
  {
   "cell_type": "markdown",
   "metadata": {},
   "source": [
    "You can find the full list of supported colors [here](https://matplotlib.org/stable/gallery/color/named_colors.html)."
   ]
  },
  {
   "cell_type": "markdown",
   "metadata": {},
   "source": [
    "#### Add text to figures\n",
    "\n",
    "Sometimes, we wish to add text to our figures. We can do that using the ```text(x, y, s)``` function, where ```x``` and ```y``` determines the position to place the text (coordinates in the x and y axes), and ```s``` is the text to display.\n",
    "\n",
    "For example, let's add some text to the histogram above:"
   ]
  },
  {
   "cell_type": "code",
   "execution_count": null,
   "metadata": {},
   "outputs": [],
   "source": [
    "# Plot the distribution of the generated numbers\n",
    "plt.hist(numbers, label='Uniform distribution', color='green')\n",
    "plt.xlabel('Randomly-generated number')\n",
    "plt.ylabel('Entries')\n",
    "plt.legend(loc='lower left')\n",
    "plt.text(x=4, y=6000, s=\"I'm using matplotlib\", color='white')\n",
    "plt.show()"
   ]
  },
  {
   "cell_type": "markdown",
   "metadata": {},
   "source": [
    "For more information, see [matplotlib.pyplot.text](https://matplotlib.org/stable/api/_as_gen/matplotlib.pyplot.text.html)."
   ]
  },
  {
   "cell_type": "markdown",
   "metadata": {},
   "source": [
    "### <div id='matplotlib_multiple_lines'>1.F. How to show two or more line plots together?</div>\n",
    "\n",
    "Before calling ```plt.show()```, we can create as many plots we need. Although, remember to set different colors, linestyles and labels such that they can properly be distinguished. Here is an example:"
   ]
  },
  {
   "cell_type": "code",
   "execution_count": null,
   "metadata": {},
   "outputs": [],
   "source": [
    "# Let's generate two sets of (x,y) points\n",
    "x = [0, 1, 2, 3, 4, 5, 6]\n",
    "y_a = [item * 2 for item in x]\n",
    "y_b = [-2 + item * 3 for item in x]\n",
    "\n",
    "# Let's plot y vs x\n",
    "plt.plot(x, y_a, color='b', linestyle='-', label='A')\n",
    "plt.plot(x, y_b, color='g', linestyle='--', label='B')\n",
    "plt.legend(loc='upper right')\n",
    "plt.show()"
   ]
  },
  {
   "cell_type": "markdown",
   "metadata": {},
   "source": [
    "### <div id='matplotlib_stack'>1.G. How to make a stack plot?</div>\n",
    "\n",
    "Stack plots in matplotlib are created with the ```stackplot(x, y)``` function, where ```x``` is an array of shape ```(N, )``` and ```y``` is an array of shape ```(M, N)```. Here is an example:"
   ]
  },
  {
   "cell_type": "code",
   "execution_count": null,
   "metadata": {},
   "outputs": [],
   "source": [
    "import numpy as np\n",
    "\n",
    "# Create a dictionary to store the data\n",
    "products = ['ProductA', 'ProductB', 'ProductC']\n",
    "sales = {  # array of sales by product vs days\n",
    "    1: [14, 24, 23],\n",
    "    2: [12, 25, 21],\n",
    "    3: [19, 18, 27],\n",
    "    4: [17, 22, 20],\n",
    "    5: [20, 19, 19],\n",
    "    6: [15, 23, 22],\n",
    "    7: [16, 24, 24],\n",
    "}\n",
    "days = list(sales.keys())\n",
    "\n",
    "# Create a numpy array from the dict and transpose it\n",
    "# This will give us an array of arrays.\n",
    "# The inner array contains sales per day for a given product while the outer array separates by product\n",
    "data = np.array(list(sales.values())).T\n",
    "\n",
    "# Create stack plot and style it\n",
    "plt.stackplot(days, data, labels=products)\n",
    "plt.xlabel('Days')\n",
    "plt.ylabel('Sales')\n",
    "plt.ylim([0, 85])\n",
    "plt.legend()\n",
    "\n",
    "# Print the figure\n",
    "plt.show()"
   ]
  },
  {
   "cell_type": "markdown",
   "metadata": {},
   "source": [
    "For more information about stack plots, see [matplotlib.pyplot.stackplot](https://matplotlib.org/stable/api/_as_gen/matplotlib.pyplot.stackplot.html)."
   ]
  },
  {
   "cell_type": "markdown",
   "metadata": {},
   "source": [
    "### <div id='matplotlib_grouped_bar_chart'>1.H. How to make a grouped bar chart?</div>\n",
    "\n",
    "Let's add further separation to the dictionary created before. We will separate the sales not only by category but also by countries, we will concentrate on only three categories (CategoryA, CategoryB and CategoryC) for simplicity.\n",
    "\n",
    "We will create a grouped bar chart. We will have the categories in the x-axis and on each category, we will show a bar for each country. Here is how I will do it:\n",
    "\n",
    "- First, I will create a numerical axis for the categories\n",
    "- Then, for each country I'll create a bar chart where each bar for each category has an offset that is different for each country\n",
    "\n",
    "Here is a full example:"
   ]
  },
  {
   "cell_type": "code",
   "execution_count": null,
   "metadata": {},
   "outputs": [],
   "source": [
    "# Prepare the data\n",
    "categories = ['CategoryA', 'CategoryB', 'CategoryC']\n",
    "data_dict = {\n",
    "    'France': [80, 56, 43],\n",
    "    'Spain': [20, 51, 54],\n",
    "    'Switzerland': [21, 47, 22],\n",
    "}\n",
    "\n",
    "# Create numerical axis\n",
    "x = np.arange(len(categories))\n",
    "\n",
    "# Set the width of the bars\n",
    "width = 0.25\n",
    "\n",
    "# Create figure and axis\n",
    "fig, ax = plt.subplots()\n",
    "\n",
    "# Create bars\n",
    "for i, (country, sales) in enumerate(data_dict.items()):\n",
    "    offset = width * i  # offset in the x-axis (different for each bar)\n",
    "    bar = ax.bar(x + offset, sales, width=width, label=country)\n",
    "    ax.bar_label(bar)  # show numbers on top of bars\n",
    "\n",
    "# Label the axes\n",
    "ax.set_xlabel('Categories')\n",
    "ax.set_ylabel('Sales')\n",
    "\n",
    "# Show category names\n",
    "ax.set_xticks(x + width, categories)\n",
    "\n",
    "# Add legends\n",
    "ax.legend(loc='upper right', ncols=3)\n",
    "\n",
    "# Show figure\n",
    "plt.show()"
   ]
  },
  {
   "cell_type": "markdown",
   "metadata": {},
   "source": [
    "### <div id='matplotlib_savefig'>1.I. How to save figures?</div>\n",
    "\n",
    "We can save figures using the ```savefig()``` function. For example, we could use the following: ```plt.savefig('myfigure.png')```. We can save figures in png, pdf, svg and other formats. For more information, see [matplotlib.pyplot.savefig](https://matplotlib.org/stable/api/_as_gen/matplotlib.pyplot.savefig.html)."
   ]
  },
  {
   "cell_type": "markdown",
   "metadata": {},
   "source": [
    "## <div id='plotly'>2. The Plotly library</div>\n",
    "\n",
    "Plotly is a powerful library for creating interactive data visualizations. Plotly figures can be displayed in Jupyter notebooks, be saved to HTML files to be viewed in a web browser, or be part a Python-built web applications using Dash (e.g. a web-based dashboard). When figures are viewed in a web browser or a jupyter notebook, you can hover over data points, zoom in/out, and show/hide data by clicking on the legends.\n",
    "\n",
    "In this course, I will mostly introduce you to Plotly Express. [Plotly Express](https://plotly.com/python/plotly-express/) is the easy-to-use, high-level interface to Plotly, which operates on a variety of types of data and produces easy-to-style figures.\n",
    "\n",
    "Here are some of the types of data that you can use in all the functions that I will mention in the following sections:\n",
    "\n",
    "- Pandas DataFrame\n",
    "- Lists or NumPy arrays\n",
    "- Dictionary\n",
    "- Result of a SQL query\n",
    "\n",
    "In most of my examples, I will use a dictionary, but the same syntax works if a DataFrame is used instead.\n",
    "\n",
    "If you wish to learn about using Dash to build web applications using Plotly, [check this out](https://dash.plotly.com/)."
   ]
  },
  {
   "cell_type": "markdown",
   "metadata": {},
   "source": [
    "Let's start and import the plotly library:"
   ]
  },
  {
   "cell_type": "code",
   "execution_count": null,
   "metadata": {},
   "outputs": [],
   "source": [
    "import plotly.express as px"
   ]
  },
  {
   "cell_type": "markdown",
   "metadata": {},
   "source": [
    "If the above didn't work, please run the following on a terminal/console:\n",
    "```\n",
    "pip install plotly\n",
    "```\n",
    "or\n",
    "```\n",
    "pip3 install plotly\n",
    "```"
   ]
  },
  {
   "cell_type": "markdown",
   "metadata": {},
   "source": [
    "In the following sections, I will explain how to make histograms, bar charts, line charts and scatter plots. Moreover, I will explain how to export figures to static image file formats (PNG, SVG, PDF, etc) or to HTML which can be opened in a browser and remain interactive.\n",
    "\n",
    "**Important for all Plotly figures displayed in this notebook:**\n",
    "I'm using ```show('png')``` instead of ```show()``` so that the figures are shown (as static figures) in nbviewer. If you are using this notebook in your computer, I recommend displaying interactive figures instead, which you can do by replacing ```show('png')``` by ```show()```."
   ]
  },
  {
   "cell_type": "markdown",
   "metadata": {},
   "source": [
    "### <div id='plotly_hists'>2.A. Histograms</div>\n",
    "\n",
    "In Plotly, a histogram is an aggregated bar chart, with several possible aggregation functions (count, sum, average, etc) which can be used to visualize data on categorical and date axes as well as linear axes.\n",
    "\n",
    "Let's take a look at an example where we will look at (randomly-generated) data from a hotel booking website. Specifically, we will look at the number of users and the number of bookings by date."
   ]
  },
  {
   "cell_type": "code",
   "execution_count": null,
   "metadata": {},
   "outputs": [],
   "source": [
    "import pandas as pd\n",
    "\n",
    "# Helpful dict to convert day number from datatime to string\n",
    "weekdays = {\n",
    "    1: \"Monday\",\n",
    "    2: \"Tuesday\",\n",
    "    3: \"Wednesday\",\n",
    "    4: \"Thursday\",\n",
    "    5: \"Friday\",\n",
    "    6: \"Saturday\",\n",
    "    7: \"Sunday\"\n",
    "}\n",
    "\n",
    "# Generate data (nusers and nbookings per day)\n",
    "from random import gauss\n",
    "from datetime import datetime\n",
    "ndays = 120  # number of days\n",
    "dates = [np.datetime64('2023-03-01') + np.timedelta64(i, 'D') for i in range(ndays)]\n",
    "days = [weekdays[i.astype(datetime).isoweekday()] for i in dates]\n",
    "number_of_users = [int(gauss(1000, 50)) for _ in range(ndays)]\n",
    "number_of_bookings = [int(gauss(0.2*i, 0.01*i)) for i in number_of_users]\n",
    "data_users_dict = {\n",
    "    'date': dates,  # date in ISO 8601 format\n",
    "    'day': days,  # day of week (string)\n",
    "    'number_of_users': number_of_users,\n",
    "    'number_of_bookings': number_of_bookings\n",
    "}\n",
    "\n",
    "# Create and show histogram with Plotly\n",
    "fig = px.histogram(data_users_dict, x=\"number_of_users\")\n",
    "fig.show('png')"
   ]
  },
  {
   "cell_type": "markdown",
   "metadata": {},
   "source": [
    "**Note:**\n",
    "- I could have just used: ```px.histogram(x=number_of_users)```\n",
    "- We could create a DataFrame out of the dictionary\n",
    "- If we use a DataFrame in which there is only one column, then there is no need to set the ```x``` argument."
   ]
  },
  {
   "cell_type": "markdown",
   "metadata": {},
   "source": [
    "#### Choosing the number of bins\n",
    "\n",
    "By default, the number of bins is chosen so that is comparable to the typical content in a bin. This number can be customized by setting the ```nbins``` argument. Example:"
   ]
  },
  {
   "cell_type": "code",
   "execution_count": null,
   "metadata": {},
   "outputs": [],
   "source": [
    "fig = px.histogram(data_users_dict, x=\"number_of_users\", nbins=10)\n",
    "fig.show('png')"
   ]
  },
  {
   "cell_type": "markdown",
   "metadata": {},
   "source": [
    "#### Choosing the aggregation function\n",
    "\n",
    "Suppose we now want to see the average number of bookings vs the number of users (if everything works well, we should see a trend, the higher the number of users, then the higher the number of bookings). We can do this by setting the variable to use in the y axis with the ```y``` argument and we can choose the aggregation function with the ```histfunc``` argument. This is how it will look like:"
   ]
  },
  {
   "cell_type": "code",
   "execution_count": null,
   "metadata": {},
   "outputs": [],
   "source": [
    "fig = px.histogram(data_users_dict, x=\"number_of_users\", y='number_of_bookings', histfunc='avg')\n",
    "fig.show('png')"
   ]
  },
  {
   "cell_type": "markdown",
   "metadata": {},
   "source": [
    "**Note:**\n",
    "- When the ```y``` argument is set, ```'sum'``` is used as default for ```histfunc```.\n",
    "- I could have used ```fig = px.histogram(x=number_of_users, y=number_of_bookings, histfunc='avg')``` as well."
   ]
  },
  {
   "cell_type": "markdown",
   "metadata": {},
   "source": [
    "As mentioned before, we can also use a column with categorical data. As an example, let's plot the average number of users per day of the week:"
   ]
  },
  {
   "cell_type": "code",
   "execution_count": null,
   "metadata": {},
   "outputs": [],
   "source": [
    "fig = px.histogram(data_users_dict, x=\"day\", y='number_of_users', histfunc='avg')\n",
    "fig.show('png')"
   ]
  },
  {
   "cell_type": "markdown",
   "metadata": {},
   "source": [
    "As you can see, the first bin is ```Wednesday```. This is because the day in our dictionary is Wednesday. If we wish to force an specific order in the binning, we need to set the ```category_orders``` argument. For example:"
   ]
  },
  {
   "cell_type": "code",
   "execution_count": null,
   "metadata": {},
   "outputs": [],
   "source": [
    "fig = px.histogram(data_users_dict, x=\"day\", y='number_of_users', histfunc='avg', category_orders=dict(day=list(weekdays.values())))\n",
    "fig.show('png')"
   ]
  },
  {
   "cell_type": "markdown",
   "metadata": {},
   "source": [
    "Furthermore, we can also use dates in the x-axis:"
   ]
  },
  {
   "cell_type": "code",
   "execution_count": null,
   "metadata": {},
   "outputs": [],
   "source": [
    "fig = px.histogram(data_users_dict, x=\"date\", y='number_of_users', histfunc='avg')\n",
    "fig.update_layout(bargap=0.2)  # separate bars for better visualization\n",
    "fig.show('png')"
   ]
  },
  {
   "cell_type": "markdown",
   "metadata": {},
   "source": [
    "#### Setting axes titles\n",
    "\n",
    "Let's reproduce one of the examples above and use the ```update_layout()``` function to set the x-axis (y-axis) title with its ```xaxis_title``` (```yaxis_title```) argument."
   ]
  },
  {
   "cell_type": "code",
   "execution_count": null,
   "metadata": {},
   "outputs": [],
   "source": [
    "fig = px.histogram(data_users_dict, x=\"number_of_users\", y='number_of_bookings', histfunc='avg')\n",
    "fig.update_layout(\n",
    "    xaxis_title=\"# users\",\n",
    "    yaxis_title=\"Average # bookings\",\n",
    ")\n",
    "fig.show('png')"
   ]
  },
  {
   "cell_type": "markdown",
   "metadata": {},
   "source": [
    "**Note:**\n",
    "- The same can be achieved using ```update_xaxes(title_text='# users')``` and ```update_yaxes(title_text='Average # bookings')```.\n",
    "- Alternatively, we can set axes titles with the ```labels``` argument. In this case, we should provide a ```dict``` where the key is the key from our dictionary for which we wish to change the title and its value is the name to be displayed in the corresponding axis."
   ]
  },
  {
   "cell_type": "markdown",
   "metadata": {},
   "source": [
    "#### Sorting bins based on content\n",
    "\n",
    "Let's come back to the example where we plotted the average number of users for each day and order the bins based on the y-axis values, from largest to lowest. This is how it can be done:"
   ]
  },
  {
   "cell_type": "code",
   "execution_count": null,
   "metadata": {},
   "outputs": [],
   "source": [
    "fig = px.histogram(data_users_dict, x=\"day\", y='number_of_users', histfunc='avg').update_xaxes(categoryorder='total descending')\n",
    "fig.show('png')"
   ]
  },
  {
   "cell_type": "markdown",
   "metadata": {},
   "source": [
    "#### Histograms with go.Histogram\n",
    "\n",
    "Sometimes, Plotly Express fall short and we need to use the more generic ```go.Histogram``` class from ```plotly.graph_objects```. Let's take a look at a couple of things that can be done with ```go.Histogram```.\n",
    "\n",
    "Let's fist import ```plotly.graph_objects```:"
   ]
  },
  {
   "cell_type": "code",
   "execution_count": null,
   "metadata": {},
   "outputs": [],
   "source": [
    "import plotly.graph_objects as go"
   ]
  },
  {
   "cell_type": "markdown",
   "metadata": {},
   "source": [
    "<u>Plotting several histograms together:</u>"
   ]
  },
  {
   "cell_type": "markdown",
   "metadata": {},
   "source": [
    "In this example, I will first generate data from two different Gaussian distributions. Then, I will create a ```go.Figure()``` object and add each histogram using the ```add_trace()``` function. I will set the ```name``` argument to have a meaningful legend and the same number of bins for eacy comparison through the ```nbinsx``` agument. I will also use the ```update_layout()``` function with ```barmode='overlay'``` to have overlayed histograms and I will set ```opacity``` to ```0.5``` so we can properly see both histograms. I'm also going to set the color for each histogram by setting the ```marker``` argument."
   ]
  },
  {
   "cell_type": "code",
   "execution_count": null,
   "metadata": {},
   "outputs": [],
   "source": [
    "# Generate data\n",
    "xA = [gauss(500, 5) for _ in range(1000)]\n",
    "xB = [gauss(500, 3) for _ in range(1000)]\n",
    "\n",
    "# Create go.Figure and add histograms\n",
    "fig = go.Figure()\n",
    "fig.add_trace(go.Histogram(x=xA, name='A', nbinsx=20, marker=go.histogram.Marker(color='black')))\n",
    "fig.add_trace(go.Histogram(x=xB, name='B', nbinsx=20, marker=go.histogram.Marker(color='red')))\n",
    "\n",
    "#marker=go.histogram.Marker(color=\"orange\") # Change the color\n",
    "\n",
    "# Overlay both histograms\n",
    "fig.update_layout(barmode='overlay')\n",
    "\n",
    "# Reduce opacity to see both histograms\n",
    "fig.update_traces(opacity=0.5)\n",
    "fig.show('png')"
   ]
  },
  {
   "cell_type": "markdown",
   "metadata": {},
   "source": [
    "The full name of CSS named colors can be found in [plotly.graph_objects.histogram.marker](https://plotly.com/python-api-reference/generated/plotly.graph_objects.histogram.marker.html)."
   ]
  },
  {
   "cell_type": "markdown",
   "metadata": {},
   "source": [
    "<u>Stacked Histograms</u>\n",
    "\n",
    "If we wish to stack both histograms instead of overlay them, we just need to set ```barmode``` to ```'stack'```. Let's reproduce the example above with stacked histograms:"
   ]
  },
  {
   "cell_type": "code",
   "execution_count": null,
   "metadata": {},
   "outputs": [],
   "source": [
    "# Create go.Figure and add histograms\n",
    "fig = go.Figure()\n",
    "fig.add_trace(go.Histogram(x=xA, name='A', nbinsx=20))\n",
    "fig.add_trace(go.Histogram(x=xB, name='B', nbinsx=20))\n",
    "\n",
    "# Stack both histograms\n",
    "fig.update_layout(barmode='stack')\n",
    "\n",
    "# Reduce opacity to see both histograms\n",
    "fig.update_traces(opacity=0.75)\n",
    "fig.show('png')"
   ]
  },
  {
   "cell_type": "markdown",
   "metadata": {},
   "source": [
    "You can find more information and tips for histograms in [plotly.com/python/histograms/](https://plotly.com/python/histograms/)."
   ]
  },
  {
   "cell_type": "markdown",
   "metadata": {},
   "source": [
    "### <div id='plotly_bar_charts'>2.B. Bar charts</div>\n",
    "\n",
    "Suppose we have a DataFrame, with ```px.bar```, each row of the DataFrame is represented as a rectangular mark (bar). If you wish to aggregate multiple data points into the same rectangular mark, you need a histogram (see <a href=\"#plotly_hists\">2.A.a.</a>).\n",
    "\n",
    "Let's look at an example:"
   ]
  },
  {
   "cell_type": "code",
   "execution_count": null,
   "metadata": {},
   "outputs": [],
   "source": [
    "sales_dict = {\n",
    "    'year': [2001, 2002, 2003, 2004, 2005, 2006],\n",
    "    'sales': [1210000, 1540000, 1180000, 1830000, 890000, 1170000]\n",
    "}\n",
    "\n",
    "fig = px.bar(sales_dict, x='year', y='sales')\n",
    "fig.show('png')"
   ]
  },
  {
   "cell_type": "markdown",
   "metadata": {},
   "source": [
    "#### Stacked bar charts\n",
    "\n",
    "<u>Bar charts with Long Format Data</u>\n",
    "\n",
    "In this type of bar charts, there will be a bar in the x-axis for each row of a column provided with the ```x``` argument. Each of those bars are further divided by the values present in another column (provided by the ```color``` argument).\n",
    "\n",
    "Let's look at a similar data to the one we used before but let's add another separation. The sales for every year are now further separated into countries. This is how we would display the data in a bar chart with long format data:"
   ]
  },
  {
   "cell_type": "code",
   "execution_count": null,
   "metadata": {},
   "outputs": [],
   "source": [
    "sales_dict = {\n",
    "    'year': [year for year in [2001, 2002, 2003, 2004, 2005, 2006] for _ in range(3)],\n",
    "    'country': ['Spain', 'France', 'Italy'] * 6,\n",
    "    'sales': [gauss(10000000, 1000000) for _ in range(18)]\n",
    "}\n",
    "\n",
    "fig = px.bar(sales_dict, x=\"year\", y=\"sales\", color=\"country\")\n",
    "fig.show('png')"
   ]
  },
  {
   "cell_type": "markdown",
   "metadata": {},
   "source": [
    "<u>Bar charts with Wide Format Data</u>\n",
    "\n",
    "This type of bar charts, there will be a bar in the x-axis for each row of a column provided with the ```x``` argument. Each of those bars are further divided by the list of columns provided in the ```y``` argument. For example, we can use this type of chart to display the revenue and profit for each year. Let's see how this would look like:"
   ]
  },
  {
   "cell_type": "code",
   "execution_count": null,
   "metadata": {},
   "outputs": [],
   "source": [
    "years = [2001, 2002, 2003, 2004, 2005, 2006]\n",
    "revenue_per_year = [gauss(10000000, 1500000) for _ in years]\n",
    "finances_dict = {\n",
    "    'year': years,\n",
    "    'revenue': revenue_per_year,\n",
    "    'profit': [gauss(0.05, 0.01) * revenue for revenue in revenue_per_year]\n",
    "}\n",
    "\n",
    "fig = px.bar(finances_dict, x=\"year\", y=[\"revenue\", \"profit\"])\n",
    "fig.update_yaxes(title_text='Total revenue and profit')\n",
    "fig.show('png')"
   ]
  },
  {
   "cell_type": "markdown",
   "metadata": {},
   "source": [
    "#### Grouped bar charts \n",
    "\n",
    "By default, bar charts are stacked. This behaviour can be changed to grouped by setting the ```barmode``` argument to ```group```. Let's repeat the example above but let's show the data in a grouped bar chart:"
   ]
  },
  {
   "cell_type": "code",
   "execution_count": null,
   "metadata": {},
   "outputs": [],
   "source": [
    "fig = px.bar(finances_dict, x=\"year\", y=[\"revenue\", \"profit\"], barmode='group')\n",
    "fig.update_yaxes(title_text='Total revenue and profit')\n",
    "fig.show('png')"
   ]
  },
  {
   "cell_type": "markdown",
   "metadata": {},
   "source": [
    "#### How to show values on the bars?\n",
    "\n",
    "You can show the values on the bars by setting the ```text_auto``` argument to ```True```. Alternatively, you can set it to a d3-format formatting string to control the output format. For example, a string like ```'.2f'``` will show only two decimal numbers. Let's show again a stack bar chart for our previous financial data and show values on our bars:"
   ]
  },
  {
   "cell_type": "code",
   "execution_count": null,
   "metadata": {},
   "outputs": [],
   "source": [
    "fig = px.bar(finances_dict, x=\"year\", y=[\"revenue\", \"profit\"], text_auto=\".3s\")\n",
    "fig.update_yaxes(title_text='Total revenue and profit')\n",
    "fig.show('png')"
   ]
  },
  {
   "cell_type": "markdown",
   "metadata": {},
   "source": [
    "In this case, I used ```'.3s'``` to show only 3 significant digits. To learn more about d3-format, see [this](https://github.com/d3/d3-format/tree/v1.4.5)."
   ]
  },
  {
   "cell_type": "markdown",
   "metadata": {},
   "source": [
    "If you can't find how to do something within Plotly Express, you might need to use the ```go.Bar``` class from ```plotly.graph_objects```.\n",
    "\n",
    "For more information about bar charts in Plotly Express or using ```go.Bar```, see [plotly.com/python/bar-charts/](https://plotly.com/python/bar-charts/)."
   ]
  },
  {
   "cell_type": "markdown",
   "metadata": {},
   "source": [
    "### <div id='plotly_line_charts'>2.C. Line charts</div>\n",
    "\n",
    "In order to make a line chart in Plotly Express, we need to use the ```line(data, x, y)``` function. Let's reuse our previous ```sales_dict``` dictionay and plot total sales vs year."
   ]
  },
  {
   "cell_type": "code",
   "execution_count": null,
   "metadata": {},
   "outputs": [],
   "source": [
    "# Let's get total sales for each year\n",
    "df = pd.DataFrame(sales_dict)\n",
    "data = df.groupby('year')['sales'].sum().to_frame()\n",
    "\n",
    "# Create a line chart\n",
    "fig = px.line(data)\n",
    "fig.update_yaxes(title_text='Sales')\n",
    "fig.update_layout(showlegend=False)\n",
    "fig.show('png')"
   ]
  },
  {
   "cell_type": "markdown",
   "metadata": {},
   "source": [
    "#### Draw multiple lines\n",
    "\n",
    "Let's now show sales from each country for every year. Here is how we can do it:"
   ]
  },
  {
   "cell_type": "code",
   "execution_count": null,
   "metadata": {},
   "outputs": [],
   "source": [
    "fig = px.line(sales_dict, x='year', y='sales', color='country')\n",
    "fig.show('png')"
   ]
  },
  {
   "cell_type": "markdown",
   "metadata": {},
   "source": [
    "What about if we want different line styles for every country? We just need to set the ```line_dash``` argument. Example:"
   ]
  },
  {
   "cell_type": "code",
   "execution_count": null,
   "metadata": {},
   "outputs": [],
   "source": [
    "fig = px.line(sales_dict, x='year', y='sales', color='country', line_dash='country')\n",
    "fig.update_traces(marker=dict(size=12))\n",
    "fig.show('png')"
   ]
  },
  {
   "cell_type": "markdown",
   "metadata": {},
   "source": [
    "#### Line charts with markers\n",
    "\n",
    "If we wish to show markers, we just need to set the ```markers``` argument to ```True```. Let's see how it looks like for our example before:"
   ]
  },
  {
   "cell_type": "code",
   "execution_count": null,
   "metadata": {},
   "outputs": [],
   "source": [
    "fig = px.line(sales_dict, x='year', y='sales', color='country', markers=True)\n",
    "fig.show('png')"
   ]
  },
  {
   "cell_type": "markdown",
   "metadata": {},
   "source": [
    "We can also choose to use different markers for every curve, we can do that by setting the ```symbol``` argument. For example:"
   ]
  },
  {
   "cell_type": "code",
   "execution_count": null,
   "metadata": {},
   "outputs": [],
   "source": [
    "fig = px.line(sales_dict, x='year', y='sales', color='country', markers=True, symbol='country')\n",
    "fig.show('png')"
   ]
  },
  {
   "cell_type": "markdown",
   "metadata": {},
   "source": [
    "Let's now change the size of the markers:"
   ]
  },
  {
   "cell_type": "code",
   "execution_count": null,
   "metadata": {},
   "outputs": [],
   "source": [
    "fig = px.line(sales_dict, x='year', y='sales', color='country', markers=True, symbol='country')\n",
    "fig.update_traces(marker=dict(size=12))\n",
    "fig.show('png')"
   ]
  },
  {
   "cell_type": "markdown",
   "metadata": {},
   "source": [
    "#### Time-series charts\n",
    "\n",
    "Line plots using dates in the x-axis are often called time-series charts. Let's reuse our ```data_users_dict``` and plot the number of users vs date."
   ]
  },
  {
   "cell_type": "code",
   "execution_count": null,
   "metadata": {},
   "outputs": [],
   "source": [
    "fig = px.line(data_users_dict, x='date', y=\"number_of_users\")\n",
    "fig.show('png')"
   ]
  },
  {
   "cell_type": "markdown",
   "metadata": {},
   "source": [
    "For more information about line charts, see [plotly.com/python/line-charts/](https://plotly.com/python/line-charts/).\n",
    "\n",
    "For more information and tips about time-series charts, see [plotly.com/python/time-series/](https://plotly.com/python/time-series/)."
   ]
  },
  {
   "cell_type": "markdown",
   "metadata": {},
   "source": [
    "### <div id='plotly_scatter_plots'>2.D. Scatter plots</div>\n",
    "\n",
    "Similarly to matplotlib, in plotly we just need to use the ```scatter(x, y)``` function to create a scatter figure.\n",
    "\n",
    "Let's reproduce the scatter plot we produced with matplotlib now with plotly:"
   ]
  },
  {
   "cell_type": "code",
   "execution_count": null,
   "metadata": {},
   "outputs": [],
   "source": [
    "fig = px.scatter(x=x_scattered, y=y_scattered)\n",
    "fig.show('png')"
   ]
  },
  {
   "cell_type": "markdown",
   "metadata": {},
   "source": [
    "What about if we want to set different colors for markers from different groups or categories?\n",
    "\n",
    "Let's first generate some data that we can use:"
   ]
  },
  {
   "cell_type": "code",
   "execution_count": null,
   "metadata": {},
   "outputs": [],
   "source": [
    "# Generate data\n",
    "\n",
    "# Define list of groups and their properties\n",
    "groups_dict = {  # group: x_mean, x_sigma, y_mean, y_sigma\n",
    "    'A': [10, 1, 100, 10],\n",
    "    'B': [45, 5, 50, 5],\n",
    "    'C': [30, 10, 85, 10],\n",
    "}\n",
    "\n",
    "from random import choice\n",
    "\n",
    "# Generate data\n",
    "groups = []\n",
    "xs = []\n",
    "ys = []\n",
    "for _ in range(1000):\n",
    "    group = choice(list(groups_dict.keys())) \n",
    "    groups.append(group)\n",
    "    xs.append(gauss(groups_dict[group][0], groups_dict[group][1]))\n",
    "    ys.append(gauss(groups_dict[group][2], groups_dict[group][3]))\n",
    "data_groups_dict = {\n",
    "    'group': groups,\n",
    "    'x': xs,\n",
    "    'y': ys,\n",
    "}\n",
    "df = pd.DataFrame(data_groups_dict)"
   ]
  },
  {
   "cell_type": "markdown",
   "metadata": {},
   "source": [
    "Now, we can create a scatter plot where each marker has a color that depends on the group column:"
   ]
  },
  {
   "cell_type": "code",
   "execution_count": null,
   "metadata": {},
   "outputs": [],
   "source": [
    "fig = px.scatter(df, x='x', y='y', color='group')\n",
    "fig.show('png')"
   ]
  },
  {
   "cell_type": "markdown",
   "metadata": {},
   "source": [
    "We can also choose to use different marker types (i.e. symbols) with the the ```symbol``` argument, as you can see below:"
   ]
  },
  {
   "cell_type": "code",
   "execution_count": null,
   "metadata": {},
   "outputs": [],
   "source": [
    "fig = px.scatter(df, x='x', y='y', color='group', symbol='group')\n",
    "fig.show('png')"
   ]
  },
  {
   "cell_type": "markdown",
   "metadata": {},
   "source": [
    "As shown before, we can also change the size of the markers with the ```update_traces()``` function, as you can see below:"
   ]
  },
  {
   "cell_type": "code",
   "execution_count": null,
   "metadata": {},
   "outputs": [],
   "source": [
    "fig = px.scatter(df, x='x', y='y', color='group', symbol='group')\n",
    "fig.update_traces(marker={'size': 10})\n",
    "fig.show('png')"
   ]
  },
  {
   "cell_type": "markdown",
   "metadata": {},
   "source": [
    "**Note:** We can also set marker sizes using a column from a DataFrame with the ```size``` argument.\n",
    "\n",
    "For more information about scatter plots, see [plotly.com/python/line-and-scatter/](https://plotly.com/python/line-and-scatter/)."
   ]
  },
  {
   "cell_type": "markdown",
   "metadata": {},
   "source": [
    "### <div id='plotly_export'>2.E. How to export figures?</div>\n",
    "\n",
    "Plotly figures can be exported to either static image file formats like PNG, SVG and PDF or to HTML files which can be opened in a web browser to remain interactive.\n",
    "\n",
    "#### Exporting to static images\n",
    "\n",
    "Static image generation requires either Kaleido (recommended) or orca (legacy). You can install kaleido package in the following way:\n",
    "\n",
    "```\n",
    "pip install kaleido\n",
    "```\n",
    "or\n",
    "```\n",
    "pip3 install kaleido\n",
    "```\n",
    "\n",
    "Then, you just need to add the following line: ```fig.write_image(\"NAME.FORMAT\")```, where ```NAME``` can be anything you want and ```FORMAT``` can be png, jpeg, webp, svg, pdf or eps.\n",
    "\n",
    "For more information, see [plotly.com/python/static-image-export/](https://plotly.com/python/static-image-export/).\n",
    "\n",
    "#### Exporting to HTML files\n",
    "\n",
    "Plotly allows you to save interactive HTML versions of your figures to your local disk. You can do this by adding the following line: ```fig.write_html(\"NAME.html\")```, where ```NAME``` can be any name you wish to use.\n",
    "\n",
    "For more information, see [plotly.com/python/interactive-html-export/](https://plotly.com/python/interactive-html-export/)."
   ]
  },
  {
   "cell_type": "markdown",
   "metadata": {},
   "source": [
    "## <div id='seaborn'>3. The seaborn library</div>\n",
    "\n",
    "*\"Seaborn is a Python data visualization library based on matplotlib. It provides a high-level interface for drawing attractive and informative statistical graphics.\"*"
   ]
  },
  {
   "cell_type": "markdown",
   "metadata": {},
   "source": [
    "Let's first import the seaborn library:"
   ]
  },
  {
   "cell_type": "code",
   "execution_count": null,
   "metadata": {},
   "outputs": [],
   "source": [
    "import seaborn as sns"
   ]
  },
  {
   "cell_type": "markdown",
   "metadata": {},
   "source": [
    "If the above didn't work, please run the following on a terminal/console:\n",
    "\n",
    "```\n",
    "pip install seaborn\n",
    "```\n",
    "or\n",
    "```\n",
    "pip3 install seaborn\n",
    "```\n",
    "\n",
    "Since seaborn depends on matplotlib, make sure you have matplotlib installed/imported as well. Check <a href=\"#matplotlib\">here</a> for more details."
   ]
  },
  {
   "cell_type": "markdown",
   "metadata": {},
   "source": [
    "### <div id='plotly_hists'>3.a. Histograms and bar charts</div>\n",
    "\n",
    "We can create a histogram figure by either using the ```displot()``` or ```histplot()``` functions. Let's use our list of numbers in the ```numbers``` objects that we used before and create a histogram using the ```distplot()``` function and set the width of the bars / bins with the ```binwidth``` argument. If ```binwidth``` is not set, the bin width is chosen automatically."
   ]
  },
  {
   "cell_type": "code",
   "execution_count": null,
   "metadata": {},
   "outputs": [],
   "source": [
    "sns.displot(numbers, binwidth=1)"
   ]
  },
  {
   "cell_type": "markdown",
   "metadata": {},
   "source": [
    "**Note:**\n",
    "- If we want to set the number of bins, we need to set the ```bins``` argument. We can also specify the binning directly with the ```bins``` argument by passing an array.\n",
    "- If we have a dictionary or a DataFrame, we also need to set the ```x``` argument to reference the data to be plotted."
   ]
  },
  {
   "cell_type": "markdown",
   "metadata": {},
   "source": [
    "Since we know our numbers in the ```numbers``` list are discrete, we can set the ```discrete``` argument to ```True``` for better visualization (i.e. bars will be centered on discrete values)."
   ]
  },
  {
   "cell_type": "code",
   "execution_count": null,
   "metadata": {},
   "outputs": [],
   "source": [
    "sns.displot(numbers, binwidth=1, discrete=True)"
   ]
  },
  {
   "cell_type": "markdown",
   "metadata": {},
   "source": [
    "We can also use categorical data in histograms. For better visibility, we could set the ```shrink``` argument to shrink the bars and better highlight the categorical nature of the data. For example:"
   ]
  },
  {
   "cell_type": "code",
   "execution_count": null,
   "metadata": {},
   "outputs": [],
   "source": [
    "# Generate data\n",
    "sales = [choice(products) for _ in range(100)]\n",
    "\n",
    "# PLot\n",
    "sns.displot(sales, shrink=0.8)"
   ]
  },
  {
   "cell_type": "markdown",
   "metadata": {},
   "source": [
    "Suppose we have data about sales from different counties. We actually don't but let's generate some data like that:"
   ]
  },
  {
   "cell_type": "code",
   "execution_count": null,
   "metadata": {},
   "outputs": [],
   "source": [
    "# Generate data\n",
    "country_options = ['Portugal', 'Spain', 'France']\n",
    "countries = [choice(country_options) for _ in range(1000)]\n",
    "sales_stat_by_country = {  # mean, std dev\n",
    "    'Portugal': [100000, 15000],\n",
    "    'Spain': [120000, 12000],\n",
    "    'France': [110000, 5000]\n",
    "}\n",
    "distributions_dict = {\n",
    "    'country': countries,\n",
    "    'sales': [gauss(sales_stat_by_country[country][0], sales_stat_by_country[country][1]) for country in countries]\n",
    "}"
   ]
  },
  {
   "cell_type": "markdown",
   "metadata": {},
   "source": [
    "Let's now plot the distribution of sales independently of the country. Note that I'm also changing the ticks such that the numbers are smaller and setting the width of the bins."
   ]
  },
  {
   "cell_type": "code",
   "execution_count": null,
   "metadata": {},
   "outputs": [],
   "source": [
    "ax = sns.displot(distributions_dict, x=\"sales\", binwidth=5000)\n",
    "ticks = ax.axes[0][0].get_xticks()\n",
    "xlabels = ['{:,.0f}'.format(x/1000) for x in ticks]\n",
    "ax.set_xticklabels(xlabels)\n",
    "ax.set(xlabel='sales [k]')"
   ]
  },
  {
   "cell_type": "markdown",
   "metadata": {},
   "source": [
    "Let's now see the distribution of sales by country, we just need to set the ```hue``` argument to ```\"country\"```. I will also set the ```element``` argument to ```\"step\"``` to improve readability."
   ]
  },
  {
   "cell_type": "code",
   "execution_count": null,
   "metadata": {},
   "outputs": [],
   "source": [
    "ax = sns.displot(distributions_dict, x=\"sales\", hue=\"country\", element=\"step\", binwidth=5000)\n",
    "ticks = ax.axes[0][0].get_xticks()\n",
    "xlabels = ['{:,.0f}'.format(x/1000) for x in ticks]\n",
    "ax.set_xticklabels(xlabels)\n",
    "ax.set(xlabel='sales [k]')"
   ]
  },
  {
   "cell_type": "markdown",
   "metadata": {},
   "source": [
    "If we wish, we can also stack them, the total shape will match to the first histogram we produced using this data but we will learn about the contribution from eacy country."
   ]
  },
  {
   "cell_type": "code",
   "execution_count": null,
   "metadata": {},
   "outputs": [],
   "source": [
    "ax = sns.displot(distributions_dict, x=\"sales\", hue=\"country\", multiple=\"stack\", binwidth=5000)\n",
    "ticks = ax.axes[0][0].get_xticks()\n",
    "xlabels = ['{:,.0f}'.format(x/1000) for x in ticks]\n",
    "ax.set_xticklabels(xlabels)\n",
    "ax.set(xlabel='sales [k]')"
   ]
  },
  {
   "cell_type": "markdown",
   "metadata": {},
   "source": [
    "For more information, see [seaborn.pydata.org/tutorial/distributions.html](https://seaborn.pydata.org/tutorial/distributions.html)."
   ]
  },
  {
   "cell_type": "markdown",
   "metadata": {},
   "source": [
    "### <div id='plotly_line_plots'>3.b. Line plots</div>\n",
    "\n",
    "Line graphs can be made by either using the ```lineplot()``` function or the ```relplot()``` function by setting its ```kind``` argument to ```line```."
   ]
  },
  {
   "cell_type": "code",
   "execution_count": null,
   "metadata": {},
   "outputs": [],
   "source": [
    "# Let's get total sales for each year\n",
    "df = pd.DataFrame(sales_dict)\n",
    "data = df.groupby('year')['sales'].sum().to_frame()\n",
    "\n",
    "# Create a line plot\n",
    "sns.lineplot(data=data, x='year', y='sales')"
   ]
  },
  {
   "cell_type": "markdown",
   "metadata": {},
   "source": [
    "**Note:** The following would also do the trick: ```sns.relplot(data=data, x='year', y='sales', kind='line')```."
   ]
  },
  {
   "cell_type": "markdown",
   "metadata": {},
   "source": [
    "#### Aggregating data\n",
    "\n",
    "If there are multiple ```y``` values for the same ```x``` value, seaborn will aggregate the data at each ```x``` value by plotting the mean and the 95% confidence interval around the mean. This happens for both ```lineplot()``` and ```relplot()``` functions. Example:"
   ]
  },
  {
   "cell_type": "code",
   "execution_count": null,
   "metadata": {},
   "outputs": [],
   "source": [
    "# Generate data\n",
    "x_options = np.arange(1, 11)\n",
    "n_points = 1000\n",
    "xs = [choice(x_options) for _ in range(n_points)]\n",
    "ys = [x + gauss(x, 0.3*x) for x in xs]\n",
    "my_data_dict = {\n",
    "    'x': xs,\n",
    "    'y': ys\n",
    "}\n",
    "\n",
    "# Plot aggregated data\n",
    "sns.lineplot(data=my_data_dict, x=\"x\", y=\"y\")"
   ]
  },
  {
   "cell_type": "markdown",
   "metadata": {},
   "source": [
    "#### Comparing multiple line charts\n",
    "\n",
    "Similarly to Plotly, we can use another variable to split a line into more lines. The only difference is that we must use the ```hue``` argument (instead of ```color``` as in Plotly). Let's re-use our ```sales_dict``` and plot sales for every year for every country:"
   ]
  },
  {
   "cell_type": "code",
   "execution_count": null,
   "metadata": {},
   "outputs": [],
   "source": [
    "sns.lineplot(data=sales_dict, x='year', y='sales', hue='country')"
   ]
  },
  {
   "cell_type": "markdown",
   "metadata": {},
   "source": [
    "Furthermore, we can also change the style of each line by setting the ```style``` argument to the same variable used with the ```hue``` argument:"
   ]
  },
  {
   "cell_type": "code",
   "execution_count": null,
   "metadata": {},
   "outputs": [],
   "source": [
    "sns.lineplot(data=sales_dict, x='year', y='sales', hue='country', style='country')"
   ]
  },
  {
   "cell_type": "markdown",
   "metadata": {},
   "source": [
    "We can also set ```markers``` to ```True``` to show markers:"
   ]
  },
  {
   "cell_type": "code",
   "execution_count": null,
   "metadata": {},
   "outputs": [],
   "source": [
    "sns.lineplot(data=sales_dict, x='year', y='sales', hue='country', style='country', markers=True)"
   ]
  },
  {
   "cell_type": "markdown",
   "metadata": {},
   "source": [
    "**Note:** Here both marker and line styles are different and based on the country. There is no need to specifically say that we want dedicated markers and line styles, setting the ```style``` argument is enough.\n",
    "\n",
    "For more information about line plots, see [seaborn.pydata.org/tutorial/relational.html](https://seaborn.pydata.org/tutorial/relational.html)."
   ]
  },
  {
   "cell_type": "markdown",
   "metadata": {},
   "source": [
    "### <div id='plotly_scatter_plots'>3.c. Scatter plots</div>\n",
    "\n",
    "Scatter graphs can be made by either using the ```scatterplot()``` function or the ```relplot()``` function (with ```kind=\"scatter\"``` which is the default).\n",
    "\n",
    "Let's re-use our ```x_scattered``` and ```y_scattered``` variables and make a scatter figure:\n"
   ]
  },
  {
   "cell_type": "code",
   "execution_count": null,
   "metadata": {},
   "outputs": [],
   "source": [
    "sns.scatterplot(x=x_scattered, y=y_scattered)"
   ]
  },
  {
   "cell_type": "markdown",
   "metadata": {},
   "source": [
    "As with line plots, we can color data and set the style based on a third variable by using the ```hue``` and ```style``` arguments, respectively. Let's re-use our ```data_groups_dict``` and see how it looks like:"
   ]
  },
  {
   "cell_type": "code",
   "execution_count": null,
   "metadata": {},
   "outputs": [],
   "source": [
    "sns.scatterplot(data_groups_dict, x='x', y='y', hue='group', style='group')"
   ]
  },
  {
   "cell_type": "markdown",
   "metadata": {},
   "source": [
    "Let's not forget that seaborn is based on matplotlib. All functions that we will see here return something of type ```matplotlib.axes.Axes``` which are the matplotlib axes containing the plot. We can take advantage of that and do further styling. For example, we can change the size of all markers in the following way:"
   ]
  },
  {
   "cell_type": "code",
   "execution_count": null,
   "metadata": {},
   "outputs": [],
   "source": [
    "ax = sns.scatterplot(data_groups_dict, x='x', y='y', hue='group', style='group')\n",
    "ax.collections[0].set_sizes([60])   \n",
    "ax.redraw_in_frame()"
   ]
  },
  {
   "cell_type": "markdown",
   "metadata": {},
   "source": [
    "**Note:** We can also make the size of each marker depend on a given variable by setting the ```size``` argument in ```scatterplot()``` or ```relplot()```."
   ]
  },
  {
   "cell_type": "markdown",
   "metadata": {},
   "source": [
    "For more information about scatter plots, see [seaborn.pydata.org/tutorial/relational.html](https://seaborn.pydata.org/tutorial/relational.html)."
   ]
  },
  {
   "cell_type": "markdown",
   "metadata": {},
   "source": [
    "### <div id='plotly_savefig'>3.d. How to export figures?</div>\n",
    "\n",
    "Whenever we use a function from seaborn, we need to save what the function returns to a variable (let's call it ```ax```). Then, we just need to add the following line:\n",
    "\n",
    "```\n",
    "ax.get_figure().savefig(\"NAME.FORMAT\")\n",
    "```\n",
    "\n",
    "where ```NAME``` can be anything and ```FORMAT``` can be png, jpg, svg or pdf."
   ]
  },
  {
   "cell_type": "markdown",
   "metadata": {},
   "source": [
    "That's all for now. If you wish to learn some tips and other python modules, take a look at the next notebook (#6)."
   ]
  }
 ],
 "metadata": {
  "kernelspec": {
   "display_name": "Python 3",
   "language": "python",
   "name": "python3"
  },
  "language_info": {
   "codemirror_mode": {
    "name": "ipython",
    "version": 3
   },
   "file_extension": ".py",
   "mimetype": "text/x-python",
   "name": "python",
   "nbconvert_exporter": "python",
   "pygments_lexer": "ipython3",
   "version": "3.11.9"
  },
  "orig_nbformat": 4
 },
 "nbformat": 4,
 "nbformat_minor": 2
}
