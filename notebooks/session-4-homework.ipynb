{
 "cells": [
  {
   "cell_type": "markdown",
   "metadata": {},
   "source": [
    "## Home Assignment: Creating and Storing Mock Data for Trucks and Farms\n",
    "\n",
    "### Overview\n",
    "In this assignment, you will generate a mock dataset for a logistics scenario involving trucks and farms, create tables in a MariaDB database, and then populate these tables with your dataset. This exercise will help you practice your skills in Python for data manipulation, SQL for database operations, and the integration of both.\n",
    "\n",
    "### Objective\n",
    "- **Generate a mock dataset:** Create structured data for trucks and farms.\n",
    "- **Database schema design:** Define and create tables in MariaDB.\n",
    "- **Data insertion:** Write the mock data into the database.\n",
    "\n",
    "### Task 1: Generate Mock Dataset\n",
    "You are required to generate mock data for trucks and farms using Python. The dataset should be structured as follows:\n",
    "\n",
    "#### Trucks\n",
    "- **Truck ID:** A unique identifier for each truck.\n",
    "- **License Plate:** The license plate number of the truck.\n",
    "- **Model:** The model of the truck.\n",
    "- **Capacity (tons):** Maximum capacity of the truck.\n",
    "- **Farm ID:** The ID of the farm the truck is assigned to.\n",
    "\n",
    "#### Farms\n",
    "- **Farm ID:** A unique identifier for each farm.\n",
    "- **Name:** The name of the farm.\n",
    "- **Location:** The geographical location of the farm.\n",
    "- **Size (acres):** The size of the farm in acres.\n",
    "\n",
    "### Task 2: Create Database Schema\n",
    "Using SQL, create a MariaDB database called `LogisticsDB`, and within this database, create two tables: `Trucks` and `Farms` based on the dataset specifications given above. Ensure proper foreign keys are set for relational integrity.\n",
    "\n",
    "### Task 3: Insert Data into Database\n",
    "Write a Python script to insert the mock data into the respective tables in the `LogisticsDB` database. Use the `pymysql` library to manage database connections and execute SQL statements.\n",
    "\n",
    "### Requirements\n",
    "\n",
    "1. **Python Script for Generating Data:**\n",
    "   - Use libraries like `pandas` for creating DataFrames of trucks and farms.\n",
    "   - Ensure each truck is linked to a farm via `Farm ID`.\n",
    "\n",
    "2. **SQL for Table Creation:**\n",
    "   - Define SQL statements to create `Trucks` and `Farms` tables in `decepticons`.\n",
    "   - Include primary keys, appropriate data types, and a foreign key relationship.\n",
    "\n",
    "3. **Python Script for Database Operations:**\n",
    "   - Establish a connection to MariaDB.\n",
    "   - Use `mariadb` to execute SQL commands for inserting data into the database.\n",
    "   - Handle exceptions and ensure the database connection is closed properly after operations.\n",
    "\n",
    "\n",
    "This assignment will help you understand how to manipulate data using Python and how to interact with databases using SQL, which are critical skills in data-driven decision-making in logistics and transport operations."
   ]
  }
 ],
 "metadata": {
  "language_info": {
   "name": "python"
  }
 },
 "nbformat": 4,
 "nbformat_minor": 2
}
