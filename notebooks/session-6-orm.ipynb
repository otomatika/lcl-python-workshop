{
 "cells": [
  {
   "cell_type": "markdown",
   "metadata": {},
   "source": [
    "# Python Tutorial: Understanding Object-Relational Mapping with SQLAlchemy\n",
    "\n",
    "## Session 6: ORM Solutions / Usage\n",
    "\n",
    "This session will introduce Object-Relational Mapping (ORM) with SQLAlchemy, a powerful tool for managing databases through Python classes. ORM allows developers to work with databases using native Python code instead of SQL, which can simplify the development process and reduce the likelihood of errors.\n",
    "\n",
    "### Introduction to Object-Relational Mapping (ORM)\n",
    "\n",
    "Object-Relational Mapping (ORM) is a programming technique used to convert data between incompatible type systems in object-oriented programming languages. In simpler terms, ORM allows you to interact with your database using Python code instead of SQL queries. This abstraction can significantly speed up development and maintainability.\n",
    "\n",
    "### Why Use SQLAlchemy?\n",
    "\n",
    "SQLAlchemy is one of the most popular ORM libraries in the Python ecosystem. It provides a full suite of well-known enterprise-level persistence patterns and is designed for efficient and high-performing database access.\n"
   ]
  },
  {
   "cell_type": "markdown",
   "metadata": {},
   "source": [
    "\n",
    "### 1. Installing SQLAlchemy\n",
    "\n",
    "Before you can start using SQLAlchemy, you need to install it along with a library to interact with your specific database. For MariaDB, you can use the same MariaDB connector as before.\n"
   ]
  },
  {
   "cell_type": "code",
   "execution_count": 1,
   "metadata": {},
   "outputs": [
    {
     "name": "stdout",
     "output_type": "stream",
     "text": [
      "Collecting sqlalchemy\n",
      "  Downloading SQLAlchemy-2.0.29-cp311-cp311-macosx_11_0_arm64.whl.metadata (9.6 kB)\n",
      "Requirement already satisfied: mariadb in /Users/omri/otomatika/lcl-python-workshop/env/lib/python3.11/site-packages (1.1.5.post3)\n",
      "Requirement already satisfied: typing-extensions>=4.6.0 in /Users/omri/otomatika/lcl-python-workshop/env/lib/python3.11/site-packages (from sqlalchemy) (4.11.0)\n",
      "Requirement already satisfied: packaging in /Users/omri/otomatika/lcl-python-workshop/env/lib/python3.11/site-packages (from mariadb) (24.0)\n",
      "Downloading SQLAlchemy-2.0.29-cp311-cp311-macosx_11_0_arm64.whl (2.1 MB)\n",
      "\u001b[2K   \u001b[90m━━━━━━━━━━━━━━━━━━━━━━━━━━━━━━━━━━━━━━━━\u001b[0m \u001b[32m2.1/2.1 MB\u001b[0m \u001b[31m4.0 MB/s\u001b[0m eta \u001b[36m0:00:00\u001b[0ma \u001b[36m0:00:01\u001b[0m\n",
      "\u001b[?25hInstalling collected packages: sqlalchemy\n",
      "Successfully installed sqlalchemy-2.0.29\n"
     ]
    }
   ],
   "source": [
    "!pip install sqlalchemy mariadb"
   ]
  },
  {
   "cell_type": "markdown",
   "metadata": {},
   "source": [
    "\n",
    "### 2. Defining Your Database Models\n",
    "\n",
    "In SQLAlchemy, the database schema is defined using Python classes. Each class corresponds to a database table, and each attribute of the class corresponds to a column in the table.\n",
    "\n",
    "#### Example: Mapping a `Truck` Class to a Database Table\n",
    "\n",
    "Here, we'll create a Python class that maps to a `trucks` table in a MariaDB database.\n"
   ]
  },
  {
   "cell_type": "code",
   "execution_count": 10,
   "metadata": {},
   "outputs": [],
   "source": [
    "from sqlalchemy import Column, Integer, String, Date\n",
    "from sqlalchemy.orm import declarative_base\n",
    "\n",
    "\n",
    "# Define the base class\n",
    "Base = declarative_base()\n",
    "\n",
    "# Define the Truck class\n",
    "class Truck(Base):\n",
    "    __tablename__ = 'orm-trucks'\n",
    "\n",
    "    truck_id = Column(Integer, primary_key=True)\n",
    "    license_plate = Column(String(15), nullable=False)\n",
    "    model = Column(String(40), nullable=False)\n",
    "    capacity_ton = Column(Integer)\n",
    "    maintenance_date = Column(Date)\n",
    "\n",
    "    def __repr__(self):\n",
    "        return f\"<Truck(license_plate='{self.license_plate}', model='{self.model}')>\""
   ]
  },
  {
   "cell_type": "markdown",
   "metadata": {},
   "source": [
    "\n",
    "### 3. Connecting to the Database\n",
    "\n",
    "You need to create an engine to manage connections to the database. SQLAlchemy uses an engine to interact with the database, which provides a source of database connectivity and behavior.\n"
   ]
  },
  {
   "cell_type": "code",
   "execution_count": 11,
   "metadata": {},
   "outputs": [],
   "source": [
    "from sqlalchemy import create_engine\n",
    "import os\n",
    "from dotenv import load_dotenv\n",
    "load_dotenv()\n",
    "\n",
    "# Create an engine that stores data in the local directory's\n",
    "engine = create_engine(f'mariadb+mariadbconnector://{os.environ[\"M_USER\"]}:{os.environ[\"M_PW\"]}@{os.environ[\"M_SERVER\"]}/{os.environ[\"M_DB\"]}')"
   ]
  },
  {
   "cell_type": "markdown",
   "metadata": {},
   "source": [
    "### 4. Creating Tables\n",
    "\n",
    "With SQLAlchemy, you can create your tables in the database directly from your Python code by calling the `create_all` method on the `Base` class."
   ]
  },
  {
   "cell_type": "code",
   "execution_count": 12,
   "metadata": {},
   "outputs": [],
   "source": [
    "Base.metadata.create_all(engine)"
   ]
  },
  {
   "cell_type": "markdown",
   "metadata": {},
   "source": [
    "\n",
    "### 5. Creating and Managing Sessions\n",
    "\n",
    "To interact with the database, SQLAlchemy uses sessions. You'll need to create a session to add or retrieve data from the database.\n"
   ]
  },
  {
   "cell_type": "code",
   "execution_count": 13,
   "metadata": {},
   "outputs": [],
   "source": [
    "from sqlalchemy.orm import sessionmaker\n",
    "\n",
    "# Create a session\n",
    "Session = sessionmaker(bind=engine)\n",
    "session = Session()\n"
   ]
  },
  {
   "cell_type": "markdown",
   "metadata": {},
   "source": [
    "### 6. Adding and Querying Data\n",
    "\n",
    "#### Adding Data"
   ]
  },
  {
   "cell_type": "code",
   "execution_count": 14,
   "metadata": {},
   "outputs": [],
   "source": [
    "new_truck = Truck(license_plate='XYZ123', model='Volvo FH16', capacity_ton=20)\n",
    "session.add(new_truck)\n",
    "session.commit()"
   ]
  },
  {
   "cell_type": "markdown",
   "metadata": {},
   "source": [
    "\n",
    "#### Querying Data\n"
   ]
  },
  {
   "cell_type": "code",
   "execution_count": 15,
   "metadata": {},
   "outputs": [
    {
     "name": "stdout",
     "output_type": "stream",
     "text": [
      "<Truck(license_plate='XYZ123', model='Volvo FH16')>\n"
     ]
    }
   ],
   "source": [
    "for truck in session.query(Truck).order_by(Truck.truck_id):\n",
    "    print(truck)"
   ]
  },
  {
   "cell_type": "markdown",
   "metadata": {},
   "source": [
    "## Integrating SQLAlchemy ORM with Flask\n",
    "\n",
    "In this part of the tutorial, we'll learn how to integrate SQLAlchemy ORM into a Flask application to handle CRUD (Create, Read, Update, Delete) operations for trucks in our logistics system. This allows for more dynamic and interactive web applications.\n",
    "\n",
    "### 7. Setting Up Flask with SQLAlchemy\n",
    "\n",
    "To get started, ensure you have Flask and SQLAlchemy installed. If not, install them using pip:\n",
    "\n",
    "```bash\n",
    "pip install flask-sqlalchemy"
   ]
  },
  {
   "cell_type": "markdown",
   "metadata": {},
   "source": [
    "#### Integrating SQLAlchemy with Flask\n",
    "\n",
    "First, we'll set up our Flask application to work with SQLAlchemy.\n",
    "\n",
    "```python\n",
    "from flask import Flask, request, redirect, render_template, url_for\n",
    "from flask_sqlalchemy import SQLAlchemy\n",
    "import os\n",
    "from dotenv import load_dotenv\n",
    "\n",
    "load_dotenv()\n",
    "\n",
    "app = Flask(__name__)\n",
    "app.config['SQLALCHEMY_DATABASE_URI'] = f'mariadb+mariadbconnector://{os.environ[\"M_USER\"]}:{os.environ[\"M_PW\"]}@{os.environ[\"M_SERVER\"]}/{os.environ[\"M_DB\"]}'\n",
    "app.config['SQLALCHEMY_TRACK_MODIFICATIONS'] = False\n",
    "\n",
    "db = SQLAlchemy(app)\n",
    "\n",
    "# Reuse the Truck model class definition\n",
    "class Truck(db.Model):\n",
    "    __tablename__ = 'trucks'\n",
    "\n",
    "    truck_id = db.Column(db.Integer, primary_key=True)\n",
    "    license_plate = db.Column(db.String(15), nullable=False)\n",
    "    model = db.Column(db.String(40), nullable=False)\n",
    "    capacity_ton = db.Column(db.Integer)\n",
    "    maintenance_date = db.Column(db.Date)\n",
    "\n",
    "    def __repr__(self):\n",
    "        return f\"<Truck(license_plate='{self.license_plate}', model='{self.model}')>\"\n",
    "```"
   ]
  },
  {
   "cell_type": "markdown",
   "metadata": {},
   "source": [
    "### 8. Creating the Database Schema\n",
    "\n",
    "Run this once to create the database schema based on your models:\n",
    "\n",
    "```python\n",
    "db.create_all()\n",
    "```"
   ]
  },
  {
   "cell_type": "markdown",
   "metadata": {},
   "source": [
    "### 9. Adding Routes for CRUD Operations\n",
    "\n",
    "#### Adding a New Truck\n",
    "\n",
    "```python\n",
    "@app.route('/add', methods=['GET', 'POST'])\n",
    "def add_truck():\n",
    "    if request.method == 'POST':\n",
    "        license_plate = request.form['license_plate']\n",
    "        model = request.form['model']\n",
    "        capacity_ton = request.form.get('capacity_ton', type=int)\n",
    "        new_truck = Truck(license_plate=license_plate, model=model, capacity_ton=capacity_ton)\n",
    "        db.session.add(new_truck)\n",
    "        db.session.commit()\n",
    "        return redirect(url_for('list_trucks'))\n",
    "    return render_template('add_truck.html')\n",
    "```\n",
    "\n",
    "#### Listing All Trucks\n",
    "\n",
    "```python\n",
    "@app.route('/')\n",
    "@app.route('/trucks')\n",
    "def list_trucks():\n",
    "    trucks = Truck.query.all()\n",
    "    return render_template('list_trucks.html', trucks=trucks)\n",
    "```\n",
    "\n",
    "#### Editing a Truck\n",
    "\n",
    "```python\n",
    "@app.route('/edit/<int:truck_id>', methods=['GET', 'POST'])\n",
    "def edit_truck(truck_id):\n",
    "    truck = Truck.query.get_or_404(truck_id)\n",
    "    if request.method == 'POST':\n",
    "        truck.license_plate = request.form['license_plate']\n",
    "        truck.model = request.form['model']\n",
    "        truck.capacity_ton = request.form.get('capacity_ton', type=int)\n",
    "        db.session.commit()\n",
    "        return redirect(url_for('list_trucks'))\n",
    "    return render_template('edit_truck.html', truck=truck)\n",
    "```\n",
    "\n",
    "#### Deleting a Truck\n",
    "\n",
    "```python\n",
    "@app.route('/delete/<int:truck_id>', methods=['POST'])\n",
    "def delete_truck(truck_id):\n",
    "    truck = Truck.query.get_or_404(truck_id)\n",
    "    db.session.delete(truck)\n",
    "    db.session.commit()\n",
    "    return redirect(url_for('list_trucks'))\n",
    "```\n",
    "\n",
    "### 10. Creating Templates\n",
    "\n",
    "You will need to create HTML templates for adding, editing, and listing trucks. Here's an example of what the `list_trucks.html` might look like:\n",
    "\n",
    "```html\n",
    "<!DOCTYPE html>\n",
    "<html lang=\"en\">\n",
    "<head>\n",
    "    <meta charset=\"UTF-8\">\n",
    "    <title>List of Trucks</title>\n",
    "</head>\n",
    "<body>\n",
    "    <h1>List of Trucks</h1>\n",
    "    <a href=\"{{ url_for('add_truck') }}\">Add New Truck</a>\n",
    "    <ul>\n",
    "        {% for truck in trucks %}\n",
    "        <li>\n",
    "            {{ truck.license_plate }} - {{ truck.model }} - Capacity: {{ truck.capacity_ton }} tons\n",
    "            <a href=\"{{ url_for('edit_truck', truck_id=truck.truck_id) }}\">Edit</a>\n",
    "            <form action=\"{{ url_for('delete_truck', truck_id=truck.truck_id) }}\" method=\"post\">\n",
    "                <button type=\"submit\">Delete</button>\n",
    "            </form>\n",
    "        </li>\n",
    "        {% endfor %}\n",
    "    </ul>\n",
    "</body>\n",
    "</html>\n",
    "```"
   ]
  }
 ],
 "metadata": {
  "kernelspec": {
   "display_name": "env",
   "language": "python",
   "name": "python3"
  },
  "language_info": {
   "codemirror_mode": {
    "name": "ipython",
    "version": 3
   },
   "file_extension": ".py",
   "mimetype": "text/x-python",
   "name": "python",
   "nbconvert_exporter": "python",
   "pygments_lexer": "ipython3",
   "version": "3.11.9"
  }
 },
 "nbformat": 4,
 "nbformat_minor": 2
}
